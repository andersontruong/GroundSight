{
 "cells": [
  {
   "cell_type": "code",
   "execution_count": 2,
   "id": "18a5d8b8-1d24-484b-b800-24133de0250d",
   "metadata": {},
   "outputs": [],
   "source": [
    "import os\n",
    "from shutil import copy2\n",
    "from PIL import Image"
   ]
  },
  {
   "cell_type": "code",
   "execution_count": 3,
   "id": "341f5392-9853-4fd0-bb40-3328685a2430",
   "metadata": {},
   "outputs": [],
   "source": [
    "DST_ROOT = './apartment'\n",
    "SRC_ROOT = './apartment data'\n",
    "classes = next(os.walk(SRC_ROOT))[1]\n",
    "splits = ['train', 'valid', 'test']\n",
    "\n",
    "train_range = range(0, 80)\n",
    "valid_range = range(81, 95)\n",
    "test_range = range(95, 110)\n",
    "split_ranges = [train_range, valid_range, test_range]\n",
    "\n",
    "for c in os.listdir(SRC_ROOT):\n",
    "    c_dir = os.path.join(SRC_ROOT, c)\n",
    "    offset = 200\n",
    "    for _ in range(2):\n",
    "        for i, file in enumerate(os.listdir(c_dir)):\n",
    "            file_path = os.path.join(c_dir, file)\n",
    "            dst_path = os.path.join(c_dir, f'{i + offset}.jpg')\n",
    "            os.rename(file_path, dst_path)\n",
    "        offset = 0\n",
    "            \n",
    "if not os.path.exists(DST_ROOT):\n",
    "    os.mkdir(DST_ROOT)\n",
    "for idx, split in enumerate(splits):\n",
    "    path = os.path.join(DST_ROOT, split)\n",
    "    if not os.path.exists(path):\n",
    "        os.mkdir(path)\n",
    "    for c in classes:\n",
    "        src_path = os.path.join(SRC_ROOT, c)\n",
    "        dst_path = os.path.join(path, c)\n",
    "        if not os.path.exists(dst_path):\n",
    "            os.mkdir(dst_path)\n",
    "        for i in split_ranges[idx]:\n",
    "            src = os.path.join(src_path, f'{i}.jpg')\n",
    "            dst = os.path.join(dst_path, f'{i}.jpg')\n",
    "            \n",
    "            img = Image.open(src)\n",
    "            #img = img.resize((120, 120))\n",
    "            img.save(dst)\n",
    "            "
   ]
  },
  {
   "cell_type": "code",
   "execution_count": null,
   "id": "84d56ac7-283b-42e2-bdb1-bff89b169dd5",
   "metadata": {},
   "outputs": [],
   "source": []
  }
 ],
 "metadata": {
  "kernelspec": {
   "display_name": "Python 3",
   "language": "python",
   "name": "python3"
  },
  "language_info": {
   "codemirror_mode": {
    "name": "ipython",
    "version": 3
   },
   "file_extension": ".py",
   "mimetype": "text/x-python",
   "name": "python",
   "nbconvert_exporter": "python",
   "pygments_lexer": "ipython3",
   "version": "3.10.4"
  }
 },
 "nbformat": 4,
 "nbformat_minor": 5
}
