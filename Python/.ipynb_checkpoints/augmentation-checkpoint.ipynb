{
 "cells": [
  {
   "cell_type": "code",
   "execution_count": 43,
   "id": "bd32f9c2-1b50-4bd9-8174-fa67d4838c26",
   "metadata": {},
   "outputs": [],
   "source": [
    "import matplotlib.pyplot as plt\n",
    "from tensorflow.keras.preprocessing.image import ImageDataGenerator\n",
    "import os\n",
    "import numpy as np\n",
    "from PIL import Image"
   ]
  },
  {
   "cell_type": "code",
   "execution_count": 44,
   "id": "6cde1b32-20cb-4b93-a1df-62907dd3cf11",
   "metadata": {},
   "outputs": [],
   "source": [
    "datagen = ImageDataGenerator(\n",
    "        rotation_range=90,\n",
    "        height_shift_range=0.2,\n",
    "        width_shift_range=0.2,\n",
    "        shear_range=3,\n",
    "        brightness_range=(0.5, 1),\n",
    "        zoom_range=[0.8, 1],\n",
    "        horizontal_flip=True,\n",
    "        vertical_flip=True,\n",
    "        fill_mode='reflect',\n",
    ")\n",
    "\n",
    "testdatagen = ImageDataGenerator(\n",
    "        rotation_range=40,\n",
    "        brightness_range=(0.5, 1),\n",
    "        zoom_range=[0.8, 1],\n",
    "        horizontal_flip=True,\n",
    "        vertical_flip=True,\n",
    "        fill_mode='reflect',\n",
    ")"
   ]
  },
  {
   "cell_type": "code",
   "execution_count": 49,
   "id": "ff2dd333-3e89-4885-af72-87095e8841a4",
   "metadata": {},
   "outputs": [
    {
     "name": "stdout",
     "output_type": "stream",
     "text": [
      "Found 94 images belonging to 1 classes.\n",
      "Found 94 images belonging to 1 classes.\n",
      "light brown wood\n"
     ]
    },
    {
     "ename": "AttributeError",
     "evalue": "'DirectoryIterator' object has no attribute 'shape'",
     "output_type": "error",
     "traceback": [
      "\u001b[1;31m---------------------------------------------------------------------------\u001b[0m",
      "\u001b[1;31mAttributeError\u001b[0m                            Traceback (most recent call last)",
      "Input \u001b[1;32mIn [49]\u001b[0m, in \u001b[0;36m<cell line: 23>\u001b[1;34m()\u001b[0m\n\u001b[0;32m     37\u001b[0m \u001b[38;5;28mprint\u001b[39m(class_)\n\u001b[0;32m     39\u001b[0m a \u001b[38;5;241m=\u001b[39m Image\u001b[38;5;241m.\u001b[39mfromarray(train_data_gen[\u001b[38;5;241m1\u001b[39m][\u001b[38;5;241m0\u001b[39m][\u001b[38;5;241m0\u001b[39m]\u001b[38;5;241m.\u001b[39mastype(np\u001b[38;5;241m.\u001b[39muint8))\u001b[38;5;66;03m#.save(os.path.join(ROOT_DIR, 'train', class_, f'{i}.jpg'))\u001b[39;00m\n\u001b[1;32m---> 41\u001b[0m \u001b[38;5;28mprint\u001b[39m(\u001b[43mtrain_data_gen\u001b[49m\u001b[38;5;241;43m.\u001b[39;49m\u001b[43mshape\u001b[49m)\n",
      "\u001b[1;31mAttributeError\u001b[0m: 'DirectoryIterator' object has no attribute 'shape'"
     ]
    }
   ],
   "source": [
    "# 1000 samples\n",
    "TRAIN_SAMPLES = 5\n",
    "TEST_SAMPLES = 5\n",
    "ROOT_DIR = 'datasets'\n",
    "DIRS = ['light brown wood', 'gray wood', 'gray painted wood', 'gray rug', 'stone tile', 'rubber stairs'][:1]\n",
    "\n",
    "if not os.path.exists(ROOT_DIR):\n",
    "    os.mkdir(ROOT_DIR)\n",
    "    os.mkdir(os.path.join(ROOT_DIR, ROOT_DIR))\n",
    "    \n",
    "if not os.path.exists(os.path.join(ROOT_DIR, 'train')):\n",
    "    os.mkdir(os.path.join(ROOT_DIR, 'train'))\n",
    "    \n",
    "if not os.path.exists(os.path.join(ROOT_DIR, 'test')):\n",
    "    os.mkdir(os.path.join(ROOT_DIR, 'test'))\n",
    "\n",
    "for DIR in DIRS:\n",
    "    if not os.path.exists(os.path.join(ROOT_DIR, 'train', DIR)):\n",
    "        os.mkdir(os.path.join(ROOT_DIR, 'train', DIR))\n",
    "    if not os.path.exists(os.path.join(ROOT_DIR, 'test', DIR + ' test')):\n",
    "        os.mkdir(os.path.join(ROOT_DIR, 'test', DIR + ' test'))\n",
    "\n",
    "for c, class_ in enumerate(DIRS):\n",
    "    train_data_gen = datagen.flow_from_directory(\n",
    "        batch_size=1,\n",
    "        directory=f'raw_datasets/{c}',\n",
    "        shuffle=False,\n",
    "        target_size=(240, 240),\n",
    "    )\n",
    "    test_data_gen = testdatagen.flow_from_directory(\n",
    "        batch_size=1,\n",
    "        directory=f'raw_datasets/{c}',\n",
    "        shuffle=False,\n",
    "        target_size=(240, 240),\n",
    "    )"
   ]
  },
  {
   "cell_type": "code",
   "execution_count": 38,
   "id": "3300da77-aa1d-4380-a955-399c401d1052",
   "metadata": {},
   "outputs": [
    {
     "data": {
      "text/plain": [
       "'C:\\\\Users\\\\flami\\\\OneDrive\\\\Documents\\\\GitHub\\\\GroundSight\\\\GroundSight\\\\Python\\\\datasets.zip'"
      ]
     },
     "execution_count": 38,
     "metadata": {},
     "output_type": "execute_result"
    }
   ],
   "source": [
    "import shutil\n",
    "shutil.make_archive('datasets', format='zip',\n",
    "                    root_dir='.', base_dir='datasets')"
   ]
  },
  {
   "cell_type": "code",
   "execution_count": null,
   "id": "5841c4fb-939d-4fc9-8bc0-7837af2b353a",
   "metadata": {},
   "outputs": [],
   "source": []
  }
 ],
 "metadata": {
  "kernelspec": {
   "display_name": "Python 3",
   "language": "python",
   "name": "python3"
  },
  "language_info": {
   "codemirror_mode": {
    "name": "ipython",
    "version": 3
   },
   "file_extension": ".py",
   "mimetype": "text/x-python",
   "name": "python",
   "nbconvert_exporter": "python",
   "pygments_lexer": "ipython3",
   "version": "3.10.4"
  }
 },
 "nbformat": 4,
 "nbformat_minor": 5
}
