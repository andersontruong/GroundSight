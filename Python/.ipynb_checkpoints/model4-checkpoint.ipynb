{
 "cells": [
  {
   "cell_type": "code",
   "execution_count": 1,
   "id": "0b97ffe0-2170-4456-8399-29d33df38aaf",
   "metadata": {},
   "outputs": [
    {
     "name": "stdout",
     "output_type": "stream",
     "text": [
      "2.9.1\n",
      "Num GPUs Available:  1\n"
     ]
    }
   ],
   "source": [
    "import tensorflow as tf\n",
    "from tensorflow.keras import layers\n",
    "import numpy as np\n",
    "import matplotlib.pyplot as plt\n",
    "from PIL import Image\n",
    "import random\n",
    "import os\n",
    "import seaborn as sns\n",
    "import pandas as pd\n",
    "from tensorflow.keras.preprocessing.image import ImageDataGenerator\n",
    "\n",
    "print(tf.__version__)\n",
    "print(\"Num GPUs Available: \", len(tf.config.list_physical_devices('GPU')))"
   ]
  },
  {
   "cell_type": "code",
   "execution_count": 17,
   "id": "7211ba75-9680-43af-87da-8aafe82c40a5",
   "metadata": {},
   "outputs": [
    {
     "name": "stdout",
     "output_type": "stream",
     "text": [
      "Model: \"sequential_5\"\n",
      "_________________________________________________________________\n",
      " Layer (type)                Output Shape              Param #   \n",
      "=================================================================\n",
      " conv2d_15 (Conv2D)          (None, 30, 30, 16)        448       \n",
      "                                                                 \n",
      " batch_normalization_10 (Bat  (None, 30, 30, 16)       64        \n",
      " chNormalization)                                                \n",
      "                                                                 \n",
      " max_pooling2d_10 (MaxPoolin  (None, 15, 15, 16)       0         \n",
      " g2D)                                                            \n",
      "                                                                 \n",
      " conv2d_16 (Conv2D)          (None, 15, 15, 16)        2320      \n",
      "                                                                 \n",
      " batch_normalization_11 (Bat  (None, 15, 15, 16)       64        \n",
      " chNormalization)                                                \n",
      "                                                                 \n",
      " max_pooling2d_11 (MaxPoolin  (None, 7, 7, 16)         0         \n",
      " g2D)                                                            \n",
      "                                                                 \n",
      " conv2d_17 (Conv2D)          (None, 7, 7, 8)           1160      \n",
      "                                                                 \n",
      " flatten_5 (Flatten)         (None, 392)               0         \n",
      "                                                                 \n",
      " dense_15 (Dense)            (None, 16)                6288      \n",
      "                                                                 \n",
      " dropout_10 (Dropout)        (None, 16)                0         \n",
      "                                                                 \n",
      " dense_16 (Dense)            (None, 8)                 136       \n",
      "                                                                 \n",
      " dropout_11 (Dropout)        (None, 8)                 0         \n",
      "                                                                 \n",
      " dense_17 (Dense)            (None, 3)                 27        \n",
      "                                                                 \n",
      "=================================================================\n",
      "Total params: 10,507\n",
      "Trainable params: 10,443\n",
      "Non-trainable params: 64\n",
      "_________________________________________________________________\n"
     ]
    }
   ],
   "source": [
    "LR = 5e-4\n",
    "batch_size = 6\n",
    "epochs = 70\n",
    "patience = 30\n",
    "dropout = 0.7\n",
    "model_name = f'model3_lab_6_lr{LR:.0e}_b{batch_size}_do{dropout}'\n",
    "model_name = 'test'\n",
    "\n",
    "dataset_dir = 'apartment'\n",
    "\n",
    "input_shape = (30, 30, 3)\n",
    "num_classes = 3\n",
    "model = tf.keras.Sequential(\n",
    "    [\n",
    "        tf.keras.Input(shape=input_shape),\n",
    "        layers.Conv2D(16, kernel_size=(3, 3), activation='relu', kernel_initializer='he_uniform', padding='same'),\n",
    "        layers.BatchNormalization(),\n",
    "        layers.MaxPooling2D(pool_size=(2, 2)),\n",
    "        layers.Conv2D(16, kernel_size=(3, 3), activation='relu', kernel_initializer='he_uniform', padding='same'),\n",
    "        layers.BatchNormalization(),\n",
    "        layers.MaxPooling2D(pool_size=(2, 2)),\n",
    "        layers.Conv2D(8, kernel_size=(3, 3), activation='relu', kernel_initializer='he_uniform', padding='same'),\n",
    "        \n",
    "        layers.Flatten(),\n",
    "        layers.Dense(16, activation='relu'),\n",
    "        layers.Dropout(dropout),\n",
    "        layers.Dense(8, activation='relu'),\n",
    "        layers.Dropout(dropout),\n",
    "        layers.Dense(num_classes, activation='softmax'),\n",
    "    ]\n",
    ")\n",
    "model.summary()\n",
    "model.compile(optimizer=tf.keras.optimizers.Adam(LR),\n",
    "              loss=tf.keras.losses.categorical_crossentropy,\n",
    "              metrics=['accuracy'])"
   ]
  },
  {
   "cell_type": "code",
   "execution_count": 18,
   "id": "a99bada7-668c-4cdf-96b2-afeac1db71d5",
   "metadata": {},
   "outputs": [
    {
     "name": "stdout",
     "output_type": "stream",
     "text": [
      "Found 240 images belonging to 3 classes.\n",
      "Found 42 images belonging to 3 classes.\n",
      "Found 45 images belonging to 3 classes.\n"
     ]
    }
   ],
   "source": [
    "train_generator = ImageDataGenerator(\n",
    "        rotation_range=360,\n",
    "        height_shift_range=0.5,\n",
    "        width_shift_range=0.5,\n",
    "        shear_range=70,\n",
    "        brightness_range=(0.5, 1),\n",
    "        zoom_range=[0.6, 1],\n",
    "        horizontal_flip=True,\n",
    "        vertical_flip=True,\n",
    "        fill_mode='reflect',\n",
    "        rescale=1./255,\n",
    ")\n",
    "\n",
    "valid_generator = ImageDataGenerator(\n",
    "        rotation_range=360,\n",
    "        brightness_range=(0.5, 1),\n",
    "        zoom_range=[0.6, 1],\n",
    "        horizontal_flip=True,\n",
    "        vertical_flip=True,\n",
    "        fill_mode='reflect',\n",
    "        rescale=1./255,\n",
    ")\n",
    "\n",
    "train_flow = train_generator.flow_from_directory(\n",
    "        batch_size=batch_size,\n",
    "        directory=f'{dataset_dir}/train',\n",
    "        shuffle=True,\n",
    "        target_size=input_shape[:-1],\n",
    "    )\n",
    "\n",
    "valid_flow = valid_generator.flow_from_directory(\n",
    "        batch_size=batch_size,\n",
    "        directory=f'{dataset_dir}/valid',\n",
    "        shuffle=True,\n",
    "        target_size=input_shape[:-1],\n",
    "    )\n",
    "\n",
    "test_flow = valid_generator.flow_from_directory(\n",
    "        batch_size=batch_size,\n",
    "        directory=f'{dataset_dir}/test',\n",
    "        shuffle=False,\n",
    "        target_size=input_shape[:-1],\n",
    "    )"
   ]
  },
  {
   "cell_type": "code",
   "execution_count": 19,
   "id": "4acacc22-558f-4593-8c38-d90d515abcc4",
   "metadata": {},
   "outputs": [
    {
     "data": {
      "image/png": "[encoded data removed]",
      "text/plain": [
       "<Figure size 432x288 with 1 Axes>"
      ]
     },
     "metadata": {},
     "output_type": "display_data"
    }
   ],
   "source": [
    "sns.set_style(\"whitegrid\", {'axes.grid' : False})\n",
    "for _ in range(5):\n",
    "    img, label = train_flow.next()\n",
    "    #print(img.shape)   #  (1,256,256,3)\n",
    "    plt.imshow(img[0])\n",
    "    #plt.imsave('augment.jpg', img[0])"
   ]
  },
  {
   "cell_type": "code",
   "execution_count": 20,
   "id": "f2ef9eb4-9408-4414-ba78-6808fe822c01",
   "metadata": {
    "scrolled": true,
    "tags": []
   },
   "outputs": [
    {
     "name": "stdout",
     "output_type": "stream",
     "text": [
      "Epoch 1/70\n",
      "39/40 [============================>.] - ETA: 0s - loss: 1.3353 - accuracy: 0.2564"
     ]
    },
    {
     "name": "stderr",
     "output_type": "stream",
     "text": [
      "WARNING:absl:Found untraced functions such as _jit_compiled_convolution_op, _jit_compiled_convolution_op, _jit_compiled_convolution_op while saving (showing 3 of 3). These functions will not be directly callable after loading.\n"
     ]
    },
    {
     "name": "stdout",
     "output_type": "stream",
     "text": [
      "INFO:tensorflow:Assets written to: trained_models\\test\\assets\n"
     ]
    },
    {
     "name": "stderr",
     "output_type": "stream",
     "text": [
      "INFO:tensorflow:Assets written to: trained_models\\test\\assets\n"
     ]
    },
    {
     "name": "stdout",
     "output_type": "stream",
     "text": [
      "40/40 [==============================] - 4s 64ms/step - loss: 1.3299 - accuracy: 0.2542 - val_loss: 1.1028 - val_accuracy: 0.3095\n",
      "Epoch 2/70\n",
      "40/40 [==============================] - ETA: 0s - loss: 1.0748 - accuracy: 0.3750"
     ]
    },
    {
     "name": "stderr",
     "output_type": "stream",
     "text": [
      "WARNING:absl:Found untraced functions such as _jit_compiled_convolution_op, _jit_compiled_convolution_op, _jit_compiled_convolution_op while saving (showing 3 of 3). These functions will not be directly callable after loading.\n"
     ]
    },
    {
     "name": "stdout",
     "output_type": "stream",
     "text": [
      "INFO:tensorflow:Assets written to: trained_models\\test\\assets\n"
     ]
    },
    {
     "name": "stderr",
     "output_type": "stream",
     "text": [
      "INFO:tensorflow:Assets written to: trained_models\\test\\assets\n"
     ]
    },
    {
     "name": "stdout",
     "output_type": "stream",
     "text": [
      "40/40 [==============================] - 2s 59ms/step - loss: 1.0748 - accuracy: 0.3750 - val_loss: 1.0970 - val_accuracy: 0.3571\n",
      "Epoch 3/70\n",
      "37/40 [==========================>...] - ETA: 0s - loss: 1.0846 - accuracy: 0.3694"
     ]
    },
    {
     "name": "stderr",
     "output_type": "stream",
     "text": [
      "WARNING:absl:Found untraced functions such as _jit_compiled_convolution_op, _jit_compiled_convolution_op, _jit_compiled_convolution_op while saving (showing 3 of 3). These functions will not be directly callable after loading.\n"
     ]
    },
    {
     "name": "stdout",
     "output_type": "stream",
     "text": [
      "INFO:tensorflow:Assets written to: trained_models\\test\\assets\n"
     ]
    },
    {
     "name": "stderr",
     "output_type": "stream",
     "text": [
      "INFO:tensorflow:Assets written to: trained_models\\test\\assets\n"
     ]
    },
    {
     "name": "stdout",
     "output_type": "stream",
     "text": [
      "40/40 [==============================] - 3s 64ms/step - loss: 1.0966 - accuracy: 0.3708 - val_loss: 1.0827 - val_accuracy: 0.4762\n",
      "Epoch 4/70\n",
      "40/40 [==============================] - 1s 15ms/step - loss: 1.1173 - accuracy: 0.3583 - val_loss: 1.0908 - val_accuracy: 0.3810\n",
      "Epoch 5/70\n",
      "40/40 [==============================] - 1s 14ms/step - loss: 1.1111 - accuracy: 0.3917 - val_loss: 1.0904 - val_accuracy: 0.3810\n",
      "Epoch 6/70\n",
      "36/40 [==========================>...] - ETA: 0s - loss: 1.1061 - accuracy: 0.3287"
     ]
    },
    {
     "name": "stderr",
     "output_type": "stream",
     "text": [
      "WARNING:absl:Found untraced functions such as _jit_compiled_convolution_op, _jit_compiled_convolution_op, _jit_compiled_convolution_op while saving (showing 3 of 3). These functions will not be directly callable after loading.\n"
     ]
    },
    {
     "name": "stdout",
     "output_type": "stream",
     "text": [
      "INFO:tensorflow:Assets written to: trained_models\\test\\assets\n"
     ]
    },
    {
     "name": "stderr",
     "output_type": "stream",
     "text": [
      "INFO:tensorflow:Assets written to: trained_models\\test\\assets\n"
     ]
    },
    {
     "name": "stdout",
     "output_type": "stream",
     "text": [
      "40/40 [==============================] - 2s 58ms/step - loss: 1.1046 - accuracy: 0.3417 - val_loss: 1.0775 - val_accuracy: 0.5714\n",
      "Epoch 7/70\n",
      "39/40 [============================>.] - ETA: 0s - loss: 1.0749 - accuracy: 0.3675"
     ]
    },
    {
     "name": "stderr",
     "output_type": "stream",
     "text": [
      "WARNING:absl:Found untraced functions such as _jit_compiled_convolution_op, _jit_compiled_convolution_op, _jit_compiled_convolution_op while saving (showing 3 of 3). These functions will not be directly callable after loading.\n"
     ]
    },
    {
     "name": "stdout",
     "output_type": "stream",
     "text": [
      "INFO:tensorflow:Assets written to: trained_models\\test\\assets\n"
     ]
    },
    {
     "name": "stderr",
     "output_type": "stream",
     "text": [
      "INFO:tensorflow:Assets written to: trained_models\\test\\assets\n"
     ]
    },
    {
     "name": "stdout",
     "output_type": "stream",
     "text": [
      "40/40 [==============================] - 2s 59ms/step - loss: 1.0753 - accuracy: 0.3667 - val_loss: 1.0693 - val_accuracy: 0.5000\n",
      "Epoch 8/70\n",
      "39/40 [============================>.] - ETA: 0s - loss: 1.0799 - accuracy: 0.3675"
     ]
    },
    {
     "name": "stderr",
     "output_type": "stream",
     "text": [
      "WARNING:absl:Found untraced functions such as _jit_compiled_convolution_op, _jit_compiled_convolution_op, _jit_compiled_convolution_op while saving (showing 3 of 3). These functions will not be directly callable after loading.\n"
     ]
    },
    {
     "name": "stdout",
     "output_type": "stream",
     "text": [
      "INFO:tensorflow:Assets written to: trained_models\\test\\assets\n"
     ]
    },
    {
     "name": "stderr",
     "output_type": "stream",
     "text": [
      "INFO:tensorflow:Assets written to: trained_models\\test\\assets\n"
     ]
    },
    {
     "name": "stdout",
     "output_type": "stream",
     "text": [
      "40/40 [==============================] - 2s 63ms/step - loss: 1.0806 - accuracy: 0.3583 - val_loss: 1.0656 - val_accuracy: 0.5000\n",
      "Epoch 9/70\n",
      "40/40 [==============================] - 1s 18ms/step - loss: 1.0854 - accuracy: 0.3250 - val_loss: 1.0816 - val_accuracy: 0.4524\n",
      "Epoch 10/70\n",
      "40/40 [==============================] - 1s 15ms/step - loss: 1.0605 - accuracy: 0.3708 - val_loss: 1.0659 - val_accuracy: 0.3810\n",
      "Epoch 11/70\n",
      "40/40 [==============================] - 1s 14ms/step - loss: 1.1076 - accuracy: 0.3667 - val_loss: 1.0707 - val_accuracy: 0.4524\n",
      "Epoch 12/70\n",
      "39/40 [============================>.] - ETA: 0s - loss: 1.0889 - accuracy: 0.3761"
     ]
    },
    {
     "name": "stderr",
     "output_type": "stream",
     "text": [
      "WARNING:absl:Found untraced functions such as _jit_compiled_convolution_op, _jit_compiled_convolution_op, _jit_compiled_convolution_op while saving (showing 3 of 3). These functions will not be directly callable after loading.\n"
     ]
    },
    {
     "name": "stdout",
     "output_type": "stream",
     "text": [
      "INFO:tensorflow:Assets written to: trained_models\\test\\assets\n"
     ]
    },
    {
     "name": "stderr",
     "output_type": "stream",
     "text": [
      "INFO:tensorflow:Assets written to: trained_models\\test\\assets\n"
     ]
    },
    {
     "name": "stdout",
     "output_type": "stream",
     "text": [
      "40/40 [==============================] - 2s 59ms/step - loss: 1.0885 - accuracy: 0.3708 - val_loss: 1.0638 - val_accuracy: 0.5000\n",
      "Epoch 13/70\n",
      "36/40 [==========================>...] - ETA: 0s - loss: 1.0779 - accuracy: 0.3843"
     ]
    },
    {
     "name": "stderr",
     "output_type": "stream",
     "text": [
      "WARNING:absl:Found untraced functions such as _jit_compiled_convolution_op, _jit_compiled_convolution_op, _jit_compiled_convolution_op while saving (showing 3 of 3). These functions will not be directly callable after loading.\n"
     ]
    },
    {
     "name": "stdout",
     "output_type": "stream",
     "text": [
      "INFO:tensorflow:Assets written to: trained_models\\test\\assets\n"
     ]
    },
    {
     "name": "stderr",
     "output_type": "stream",
     "text": [
      "INFO:tensorflow:Assets written to: trained_models\\test\\assets\n"
     ]
    },
    {
     "name": "stdout",
     "output_type": "stream",
     "text": [
      "40/40 [==============================] - 2s 61ms/step - loss: 1.0780 - accuracy: 0.3750 - val_loss: 1.0416 - val_accuracy: 0.4762\n",
      "Epoch 14/70\n",
      "40/40 [==============================] - 1s 15ms/step - loss: 1.0792 - accuracy: 0.3583 - val_loss: 1.0611 - val_accuracy: 0.6429\n",
      "Epoch 15/70\n",
      "36/40 [==========================>...] - ETA: 0s - loss: 1.0615 - accuracy: 0.3750"
     ]
    },
    {
     "name": "stderr",
     "output_type": "stream",
     "text": [
      "WARNING:absl:Found untraced functions such as _jit_compiled_convolution_op, _jit_compiled_convolution_op, _jit_compiled_convolution_op while saving (showing 3 of 3). These functions will not be directly callable after loading.\n"
     ]
    },
    {
     "name": "stdout",
     "output_type": "stream",
     "text": [
      "INFO:tensorflow:Assets written to: trained_models\\test\\assets\n"
     ]
    },
    {
     "name": "stderr",
     "output_type": "stream",
     "text": [
      "INFO:tensorflow:Assets written to: trained_models\\test\\assets\n"
     ]
    },
    {
     "name": "stdout",
     "output_type": "stream",
     "text": [
      "40/40 [==============================] - 2s 63ms/step - loss: 1.0658 - accuracy: 0.3792 - val_loss: 1.0413 - val_accuracy: 0.7381\n",
      "Epoch 16/70\n",
      "40/40 [==============================] - ETA: 0s - loss: 1.0462 - accuracy: 0.3917"
     ]
    },
    {
     "name": "stderr",
     "output_type": "stream",
     "text": [
      "WARNING:absl:Found untraced functions such as _jit_compiled_convolution_op, _jit_compiled_convolution_op, _jit_compiled_convolution_op while saving (showing 3 of 3). These functions will not be directly callable after loading.\n"
     ]
    },
    {
     "name": "stdout",
     "output_type": "stream",
     "text": [
      "INFO:tensorflow:Assets written to: trained_models\\test\\assets\n"
     ]
    },
    {
     "name": "stderr",
     "output_type": "stream",
     "text": [
      "INFO:tensorflow:Assets written to: trained_models\\test\\assets\n"
     ]
    },
    {
     "name": "stdout",
     "output_type": "stream",
     "text": [
      "40/40 [==============================] - 2s 60ms/step - loss: 1.0462 - accuracy: 0.3917 - val_loss: 1.0128 - val_accuracy: 0.5714\n",
      "Epoch 17/70\n",
      "36/40 [==========================>...] - ETA: 0s - loss: 1.0643 - accuracy: 0.4259"
     ]
    },
    {
     "name": "stderr",
     "output_type": "stream",
     "text": [
      "WARNING:absl:Found untraced functions such as _jit_compiled_convolution_op, _jit_compiled_convolution_op, _jit_compiled_convolution_op while saving (showing 3 of 3). These functions will not be directly callable after loading.\n"
     ]
    },
    {
     "name": "stdout",
     "output_type": "stream",
     "text": [
      "INFO:tensorflow:Assets written to: trained_models\\test\\assets\n"
     ]
    },
    {
     "name": "stderr",
     "output_type": "stream",
     "text": [
      "INFO:tensorflow:Assets written to: trained_models\\test\\assets\n"
     ]
    },
    {
     "name": "stdout",
     "output_type": "stream",
     "text": [
      "40/40 [==============================] - 2s 61ms/step - loss: 1.0566 - accuracy: 0.4292 - val_loss: 0.9456 - val_accuracy: 0.6190\n",
      "Epoch 18/70\n",
      "40/40 [==============================] - 1s 16ms/step - loss: 1.0728 - accuracy: 0.3917 - val_loss: 0.9483 - val_accuracy: 0.9286\n",
      "Epoch 19/70\n",
      "39/40 [============================>.] - ETA: 0s - loss: 0.9986 - accuracy: 0.4444"
     ]
    },
    {
     "name": "stderr",
     "output_type": "stream",
     "text": [
      "WARNING:absl:Found untraced functions such as _jit_compiled_convolution_op, _jit_compiled_convolution_op, _jit_compiled_convolution_op while saving (showing 3 of 3). These functions will not be directly callable after loading.\n"
     ]
    },
    {
     "name": "stdout",
     "output_type": "stream",
     "text": [
      "INFO:tensorflow:Assets written to: trained_models\\test\\assets\n"
     ]
    },
    {
     "name": "stderr",
     "output_type": "stream",
     "text": [
      "INFO:tensorflow:Assets written to: trained_models\\test\\assets\n"
     ]
    },
    {
     "name": "stdout",
     "output_type": "stream",
     "text": [
      "40/40 [==============================] - 2s 63ms/step - loss: 1.0010 - accuracy: 0.4375 - val_loss: 0.9352 - val_accuracy: 0.9524\n",
      "Epoch 20/70\n",
      "36/40 [==========================>...] - ETA: 0s - loss: 1.0046 - accuracy: 0.4722"
     ]
    },
    {
     "name": "stderr",
     "output_type": "stream",
     "text": [
      "WARNING:absl:Found untraced functions such as _jit_compiled_convolution_op, _jit_compiled_convolution_op, _jit_compiled_convolution_op while saving (showing 3 of 3). These functions will not be directly callable after loading.\n"
     ]
    },
    {
     "name": "stdout",
     "output_type": "stream",
     "text": [
      "INFO:tensorflow:Assets written to: trained_models\\test\\assets\n"
     ]
    },
    {
     "name": "stderr",
     "output_type": "stream",
     "text": [
      "INFO:tensorflow:Assets written to: trained_models\\test\\assets\n"
     ]
    },
    {
     "name": "stdout",
     "output_type": "stream",
     "text": [
      "40/40 [==============================] - 2s 59ms/step - loss: 1.0029 - accuracy: 0.4792 - val_loss: 0.8728 - val_accuracy: 0.9524\n",
      "Epoch 21/70\n",
      "40/40 [==============================] - 1s 15ms/step - loss: 1.0681 - accuracy: 0.4583 - val_loss: 0.9700 - val_accuracy: 0.8333\n",
      "Epoch 22/70\n",
      "40/40 [==============================] - 1s 14ms/step - loss: 1.0389 - accuracy: 0.3583 - val_loss: 0.9167 - val_accuracy: 0.5000\n",
      "Epoch 23/70\n",
      "40/40 [==============================] - ETA: 0s - loss: 1.0296 - accuracy: 0.4375"
     ]
    },
    {
     "name": "stderr",
     "output_type": "stream",
     "text": [
      "WARNING:absl:Found untraced functions such as _jit_compiled_convolution_op, _jit_compiled_convolution_op, _jit_compiled_convolution_op while saving (showing 3 of 3). These functions will not be directly callable after loading.\n"
     ]
    },
    {
     "name": "stdout",
     "output_type": "stream",
     "text": [
      "INFO:tensorflow:Assets written to: trained_models\\test\\assets\n"
     ]
    },
    {
     "name": "stderr",
     "output_type": "stream",
     "text": [
      "INFO:tensorflow:Assets written to: trained_models\\test\\assets\n"
     ]
    },
    {
     "name": "stdout",
     "output_type": "stream",
     "text": [
      "40/40 [==============================] - 2s 59ms/step - loss: 1.0296 - accuracy: 0.4375 - val_loss: 0.7624 - val_accuracy: 0.8333\n",
      "Epoch 24/70\n",
      "38/40 [===========================>..] - ETA: 0s - loss: 0.9820 - accuracy: 0.4518"
     ]
    },
    {
     "name": "stderr",
     "output_type": "stream",
     "text": [
      "WARNING:absl:Found untraced functions such as _jit_compiled_convolution_op, _jit_compiled_convolution_op, _jit_compiled_convolution_op while saving (showing 3 of 3). These functions will not be directly callable after loading.\n"
     ]
    },
    {
     "name": "stdout",
     "output_type": "stream",
     "text": [
      "INFO:tensorflow:Assets written to: trained_models\\test\\assets\n"
     ]
    },
    {
     "name": "stderr",
     "output_type": "stream",
     "text": [
      "INFO:tensorflow:Assets written to: trained_models\\test\\assets\n"
     ]
    },
    {
     "name": "stdout",
     "output_type": "stream",
     "text": [
      "40/40 [==============================] - 3s 65ms/step - loss: 0.9722 - accuracy: 0.4542 - val_loss: 0.7477 - val_accuracy: 0.8095\n",
      "Epoch 25/70\n",
      "40/40 [==============================] - 1s 16ms/step - loss: 1.0307 - accuracy: 0.4500 - val_loss: 0.8474 - val_accuracy: 0.9048\n",
      "Epoch 26/70\n",
      "39/40 [============================>.] - ETA: 0s - loss: 1.0084 - accuracy: 0.4487"
     ]
    },
    {
     "name": "stderr",
     "output_type": "stream",
     "text": [
      "WARNING:absl:Found untraced functions such as _jit_compiled_convolution_op, _jit_compiled_convolution_op, _jit_compiled_convolution_op while saving (showing 3 of 3). These functions will not be directly callable after loading.\n"
     ]
    },
    {
     "name": "stdout",
     "output_type": "stream",
     "text": [
      "INFO:tensorflow:Assets written to: trained_models\\test\\assets\n"
     ]
    },
    {
     "name": "stderr",
     "output_type": "stream",
     "text": [
      "INFO:tensorflow:Assets written to: trained_models\\test\\assets\n"
     ]
    },
    {
     "name": "stdout",
     "output_type": "stream",
     "text": [
      "40/40 [==============================] - 2s 59ms/step - loss: 1.0039 - accuracy: 0.4500 - val_loss: 0.7116 - val_accuracy: 0.8333\n",
      "Epoch 27/70\n",
      "40/40 [==============================] - 1s 17ms/step - loss: 1.0121 - accuracy: 0.4250 - val_loss: 0.8897 - val_accuracy: 0.8571\n",
      "Epoch 28/70\n",
      "40/40 [==============================] - 1s 15ms/step - loss: 0.9783 - accuracy: 0.4625 - val_loss: 0.7545 - val_accuracy: 0.8810\n",
      "Epoch 29/70\n",
      "40/40 [==============================] - 1s 15ms/step - loss: 0.9944 - accuracy: 0.4167 - val_loss: 1.0147 - val_accuracy: 0.3571\n",
      "Epoch 30/70\n",
      "40/40 [==============================] - 1s 14ms/step - loss: 1.1249 - accuracy: 0.3917 - val_loss: 1.0306 - val_accuracy: 0.6190\n",
      "Epoch 31/70\n",
      "40/40 [==============================] - 1s 14ms/step - loss: 1.0249 - accuracy: 0.4000 - val_loss: 0.8276 - val_accuracy: 0.4286\n",
      "Epoch 32/70\n",
      "40/40 [==============================] - 1s 14ms/step - loss: 0.9926 - accuracy: 0.4333 - val_loss: 0.7940 - val_accuracy: 0.9524\n",
      "Epoch 33/70\n",
      "40/40 [==============================] - 1s 15ms/step - loss: 1.0402 - accuracy: 0.4250 - val_loss: 0.8062 - val_accuracy: 0.8333\n",
      "Epoch 34/70\n",
      "40/40 [==============================] - 1s 14ms/step - loss: 1.0327 - accuracy: 0.4500 - val_loss: 0.8719 - val_accuracy: 0.7857\n",
      "Epoch 35/70\n",
      "40/40 [==============================] - 1s 14ms/step - loss: 1.0196 - accuracy: 0.4583 - val_loss: 0.8304 - val_accuracy: 0.8571\n",
      "Epoch 36/70\n",
      "40/40 [==============================] - 1s 14ms/step - loss: 1.0034 - accuracy: 0.4583 - val_loss: 0.9031 - val_accuracy: 0.6905\n",
      "Epoch 37/70\n",
      "40/40 [==============================] - ETA: 0s - loss: 0.9894 - accuracy: 0.4167"
     ]
    },
    {
     "name": "stderr",
     "output_type": "stream",
     "text": [
      "WARNING:absl:Found untraced functions such as _jit_compiled_convolution_op, _jit_compiled_convolution_op, _jit_compiled_convolution_op while saving (showing 3 of 3). These functions will not be directly callable after loading.\n"
     ]
    },
    {
     "name": "stdout",
     "output_type": "stream",
     "text": [
      "INFO:tensorflow:Assets written to: trained_models\\test\\assets\n"
     ]
    },
    {
     "name": "stderr",
     "output_type": "stream",
     "text": [
      "INFO:tensorflow:Assets written to: trained_models\\test\\assets\n"
     ]
    },
    {
     "name": "stdout",
     "output_type": "stream",
     "text": [
      "40/40 [==============================] - 2s 59ms/step - loss: 0.9894 - accuracy: 0.4167 - val_loss: 0.6560 - val_accuracy: 0.9048\n",
      "Epoch 38/70\n",
      "40/40 [==============================] - ETA: 0s - loss: 0.9789 - accuracy: 0.4583"
     ]
    },
    {
     "name": "stderr",
     "output_type": "stream",
     "text": [
      "WARNING:absl:Found untraced functions such as _jit_compiled_convolution_op, _jit_compiled_convolution_op, _jit_compiled_convolution_op while saving (showing 3 of 3). These functions will not be directly callable after loading.\n"
     ]
    },
    {
     "name": "stdout",
     "output_type": "stream",
     "text": [
      "INFO:tensorflow:Assets written to: trained_models\\test\\assets\n"
     ]
    },
    {
     "name": "stderr",
     "output_type": "stream",
     "text": [
      "INFO:tensorflow:Assets written to: trained_models\\test\\assets\n"
     ]
    },
    {
     "name": "stdout",
     "output_type": "stream",
     "text": [
      "40/40 [==============================] - 3s 65ms/step - loss: 0.9789 - accuracy: 0.4583 - val_loss: 0.6297 - val_accuracy: 0.8333\n",
      "Epoch 39/70\n",
      "40/40 [==============================] - 1s 16ms/step - loss: 0.9888 - accuracy: 0.4458 - val_loss: 1.0306 - val_accuracy: 0.4048\n",
      "Epoch 40/70\n",
      "40/40 [==============================] - 1s 14ms/step - loss: 1.0822 - accuracy: 0.4042 - val_loss: 2.3035 - val_accuracy: 0.3571\n",
      "Epoch 41/70\n",
      "40/40 [==============================] - 1s 14ms/step - loss: 0.9970 - accuracy: 0.4292 - val_loss: 0.8206 - val_accuracy: 0.4286\n",
      "Epoch 42/70\n",
      "40/40 [==============================] - 1s 14ms/step - loss: 0.9895 - accuracy: 0.4375 - val_loss: 0.7193 - val_accuracy: 0.6667\n",
      "Epoch 43/70\n",
      "40/40 [==============================] - 1s 15ms/step - loss: 1.0320 - accuracy: 0.4208 - val_loss: 0.7342 - val_accuracy: 0.9762\n",
      "Epoch 44/70\n",
      "40/40 [==============================] - 1s 15ms/step - loss: 0.9486 - accuracy: 0.5250 - val_loss: 0.7612 - val_accuracy: 0.8571\n",
      "Epoch 45/70\n",
      "40/40 [==============================] - 1s 14ms/step - loss: 0.9195 - accuracy: 0.4875 - val_loss: 0.9293 - val_accuracy: 0.5238\n",
      "Epoch 46/70\n",
      "40/40 [==============================] - 1s 15ms/step - loss: 0.9491 - accuracy: 0.5125 - val_loss: 0.6338 - val_accuracy: 0.9048\n",
      "Epoch 47/70\n",
      "38/40 [===========================>..] - ETA: 0s - loss: 0.9027 - accuracy: 0.5219"
     ]
    },
    {
     "name": "stderr",
     "output_type": "stream",
     "text": [
      "WARNING:absl:Found untraced functions such as _jit_compiled_convolution_op, _jit_compiled_convolution_op, _jit_compiled_convolution_op while saving (showing 3 of 3). These functions will not be directly callable after loading.\n"
     ]
    },
    {
     "name": "stdout",
     "output_type": "stream",
     "text": [
      "INFO:tensorflow:Assets written to: trained_models\\test\\assets\n"
     ]
    },
    {
     "name": "stderr",
     "output_type": "stream",
     "text": [
      "INFO:tensorflow:Assets written to: trained_models\\test\\assets\n"
     ]
    },
    {
     "name": "stdout",
     "output_type": "stream",
     "text": [
      "40/40 [==============================] - 2s 59ms/step - loss: 0.9029 - accuracy: 0.5167 - val_loss: 0.5966 - val_accuracy: 0.8810\n",
      "Epoch 48/70\n",
      "40/40 [==============================] - 1s 15ms/step - loss: 1.0671 - accuracy: 0.4208 - val_loss: 0.9104 - val_accuracy: 0.6429\n",
      "Epoch 49/70\n",
      "40/40 [==============================] - 1s 14ms/step - loss: 1.0155 - accuracy: 0.4125 - val_loss: 0.7118 - val_accuracy: 0.8571\n",
      "Epoch 50/70\n",
      "40/40 [==============================] - 1s 15ms/step - loss: 0.9172 - accuracy: 0.5292 - val_loss: 0.7479 - val_accuracy: 0.4762\n",
      "Epoch 51/70\n",
      "40/40 [==============================] - 1s 15ms/step - loss: 0.9770 - accuracy: 0.4333 - val_loss: 1.0618 - val_accuracy: 0.4286\n",
      "Epoch 52/70\n",
      "40/40 [==============================] - 1s 14ms/step - loss: 0.9958 - accuracy: 0.4875 - val_loss: 0.6862 - val_accuracy: 0.7143\n",
      "Epoch 53/70\n",
      "40/40 [==============================] - 1s 14ms/step - loss: 0.9275 - accuracy: 0.4958 - val_loss: 0.7111 - val_accuracy: 0.6190\n",
      "Epoch 54/70\n",
      "40/40 [==============================] - 1s 14ms/step - loss: 0.9439 - accuracy: 0.4958 - val_loss: 1.1489 - val_accuracy: 0.3333\n",
      "Epoch 55/70\n",
      "40/40 [==============================] - 1s 14ms/step - loss: 0.9781 - accuracy: 0.4750 - val_loss: 1.0553 - val_accuracy: 0.4286\n",
      "Epoch 56/70\n",
      "40/40 [==============================] - 1s 14ms/step - loss: 0.9467 - accuracy: 0.5083 - val_loss: 0.6569 - val_accuracy: 0.9762\n",
      "Epoch 57/70\n",
      "39/40 [============================>.] - ETA: 0s - loss: 0.8675 - accuracy: 0.5513"
     ]
    },
    {
     "name": "stderr",
     "output_type": "stream",
     "text": [
      "WARNING:absl:Found untraced functions such as _jit_compiled_convolution_op, _jit_compiled_convolution_op, _jit_compiled_convolution_op while saving (showing 3 of 3). These functions will not be directly callable after loading.\n"
     ]
    },
    {
     "name": "stdout",
     "output_type": "stream",
     "text": [
      "INFO:tensorflow:Assets written to: trained_models\\test\\assets\n"
     ]
    },
    {
     "name": "stderr",
     "output_type": "stream",
     "text": [
      "INFO:tensorflow:Assets written to: trained_models\\test\\assets\n"
     ]
    },
    {
     "name": "stdout",
     "output_type": "stream",
     "text": [
      "40/40 [==============================] - 2s 59ms/step - loss: 0.8742 - accuracy: 0.5417 - val_loss: 0.5389 - val_accuracy: 0.9048\n",
      "Epoch 58/70\n",
      "40/40 [==============================] - 1s 15ms/step - loss: 0.9864 - accuracy: 0.4833 - val_loss: 0.8633 - val_accuracy: 0.4762\n",
      "Epoch 59/70\n",
      "39/40 [============================>.] - ETA: 0s - loss: 0.9330 - accuracy: 0.5256"
     ]
    },
    {
     "name": "stderr",
     "output_type": "stream",
     "text": [
      "WARNING:absl:Found untraced functions such as _jit_compiled_convolution_op, _jit_compiled_convolution_op, _jit_compiled_convolution_op while saving (showing 3 of 3). These functions will not be directly callable after loading.\n"
     ]
    },
    {
     "name": "stdout",
     "output_type": "stream",
     "text": [
      "INFO:tensorflow:Assets written to: trained_models\\test\\assets\n"
     ]
    },
    {
     "name": "stderr",
     "output_type": "stream",
     "text": [
      "INFO:tensorflow:Assets written to: trained_models\\test\\assets\n"
     ]
    },
    {
     "name": "stdout",
     "output_type": "stream",
     "text": [
      "40/40 [==============================] - 2s 59ms/step - loss: 0.9309 - accuracy: 0.5292 - val_loss: 0.5358 - val_accuracy: 0.8810\n",
      "Epoch 60/70\n",
      "40/40 [==============================] - 1s 15ms/step - loss: 0.9792 - accuracy: 0.4750 - val_loss: 0.8255 - val_accuracy: 0.5952\n",
      "Epoch 61/70\n",
      "40/40 [==============================] - 1s 15ms/step - loss: 0.9640 - accuracy: 0.4833 - val_loss: 0.6605 - val_accuracy: 0.8810\n",
      "Epoch 62/70\n",
      "40/40 [==============================] - 1s 15ms/step - loss: 0.8872 - accuracy: 0.5625 - val_loss: 0.7267 - val_accuracy: 0.6667\n",
      "Epoch 63/70\n",
      "39/40 [============================>.] - ETA: 0s - loss: 0.8611 - accuracy: 0.5342"
     ]
    },
    {
     "name": "stderr",
     "output_type": "stream",
     "text": [
      "WARNING:absl:Found untraced functions such as _jit_compiled_convolution_op, _jit_compiled_convolution_op, _jit_compiled_convolution_op while saving (showing 3 of 3). These functions will not be directly callable after loading.\n"
     ]
    },
    {
     "name": "stdout",
     "output_type": "stream",
     "text": [
      "INFO:tensorflow:Assets written to: trained_models\\test\\assets\n"
     ]
    },
    {
     "name": "stderr",
     "output_type": "stream",
     "text": [
      "INFO:tensorflow:Assets written to: trained_models\\test\\assets\n"
     ]
    },
    {
     "name": "stdout",
     "output_type": "stream",
     "text": [
      "40/40 [==============================] - 3s 64ms/step - loss: 0.8651 - accuracy: 0.5333 - val_loss: 0.5125 - val_accuracy: 0.8571\n",
      "Epoch 64/70\n",
      "40/40 [==============================] - 1s 16ms/step - loss: 0.9080 - accuracy: 0.5125 - val_loss: 0.5980 - val_accuracy: 0.9524\n",
      "Epoch 65/70\n",
      "40/40 [==============================] - 1s 14ms/step - loss: 0.8813 - accuracy: 0.5708 - val_loss: 0.5322 - val_accuracy: 0.9048\n",
      "Epoch 66/70\n",
      "40/40 [==============================] - 1s 14ms/step - loss: 0.9032 - accuracy: 0.5417 - val_loss: 0.9998 - val_accuracy: 0.5000\n",
      "Epoch 67/70\n",
      "40/40 [==============================] - 1s 14ms/step - loss: 0.8588 - accuracy: 0.5292 - val_loss: 0.6149 - val_accuracy: 0.8333\n",
      "Epoch 68/70\n",
      "40/40 [==============================] - 1s 15ms/step - loss: 0.8460 - accuracy: 0.5833 - val_loss: 0.7315 - val_accuracy: 0.6905\n",
      "Epoch 69/70\n",
      "40/40 [==============================] - 1s 14ms/step - loss: 0.8343 - accuracy: 0.6000 - val_loss: 0.7139 - val_accuracy: 0.7143\n",
      "Epoch 70/70\n",
      "40/40 [==============================] - 1s 14ms/step - loss: 1.0160 - accuracy: 0.5333 - val_loss: 1.0168 - val_accuracy: 0.3810\n"
     ]
    }
   ],
   "source": [
    "STEP_SIZE_TRAIN=train_flow.n//train_flow.batch_size\n",
    "STEP_SIZE_VALID=valid_flow.n//valid_flow.batch_size\n",
    "\n",
    "checkpoint = tf.keras.callbacks.ModelCheckpoint(f'trained_models/{model_name}', save_best_only=True)\n",
    "stop_early = tf.keras.callbacks.EarlyStopping(monitor='val_loss', patience=patience)\n",
    "history = model.fit(train_flow,\n",
    "            steps_per_epoch=STEP_SIZE_TRAIN,\n",
    "            validation_data=valid_flow,\n",
    "            validation_steps=STEP_SIZE_VALID,\n",
    "            epochs=epochs,\n",
    "            callbacks=[stop_early, checkpoint],\n",
    ")"
   ]
  },
  {
   "cell_type": "code",
   "execution_count": 21,
   "id": "40ff3e77-9e9e-4d56-abee-f7543a29a9f8",
   "metadata": {},
   "outputs": [],
   "source": [
    "# Save training history\n",
    "hist_df = pd.DataFrame(history.history) \n",
    "hist_csv_file = f'trained_models/{model_name}/history.csv'\n",
    "with open(hist_csv_file, mode='w') as f:\n",
    "    hist_df.to_csv(f)"
   ]
  },
  {
   "cell_type": "code",
   "execution_count": 22,
   "id": "43963840-c509-4c53-b69c-7c0201d1d866",
   "metadata": {},
   "outputs": [
    {
     "name": "stdout",
     "output_type": "stream",
     "text": [
      "8/8 [==============================] - 1s 52ms/step - loss: 0.4781 - accuracy: 0.9333\n",
      "evaluate accuracy: 93.33%\n"
     ]
    }
   ],
   "source": [
    "model = tf.keras.models.load_model('trained_models/' + model_name) #model_name\n",
    "\n",
    "test_flow.reset()\n",
    "\n",
    "scores = model.evaluate(test_flow)\n",
    "\n",
    "print(\"%s%s: %.2f%%\" % (\"evaluate \", model.metrics_names[1], scores[1]*100))"
   ]
  },
  {
   "cell_type": "code",
   "execution_count": 23,
   "id": "f680f26f-eaaf-45fb-863a-303fa9b87f6d",
   "metadata": {},
   "outputs": [
    {
     "data": {
      "image/png": "[encoded data removed]",
      "text/plain": [
       "<Figure size 432x288 with 1 Axes>"
      ]
     },
     "metadata": {},
     "output_type": "display_data"
    }
   ],
   "source": [
    "plt.plot(history.history['accuracy'])\n",
    "plt.plot(history.history['val_accuracy'])\n",
    "plt.title('Model accuracy')\n",
    "plt.ylabel('Accuracy')\n",
    "plt.xlabel('Epoch')\n",
    "plt.legend(['Train', 'Validation'], loc='upper left')\n",
    "plt.show()"
   ]
  },
  {
   "cell_type": "code",
   "execution_count": 24,
   "id": "543668e7-c877-46f4-8c60-f2bc75d7fa8e",
   "metadata": {},
   "outputs": [
    {
     "data": {
      "image/png": "[encoded data removed]",
      "text/plain": [
       "<Figure size 432x288 with 1 Axes>"
      ]
     },
     "metadata": {},
     "output_type": "display_data"
    }
   ],
   "source": [
    "plt.plot(history.history['loss'])\n",
    "plt.plot(history.history['val_loss'])\n",
    "plt.title('Model loss')\n",
    "plt.ylabel('Loss')\n",
    "plt.xlabel('Epoch')\n",
    "plt.legend(['Train', 'Validation'], loc='upper left')\n",
    "plt.savefig('loss.png')\n",
    "plt.show()"
   ]
  },
  {
   "cell_type": "code",
   "execution_count": 25,
   "id": "7f2ed930-ba5b-488e-a6dc-dc7f478d5de0",
   "metadata": {},
   "outputs": [
    {
     "name": "stdout",
     "output_type": "stream",
     "text": [
      "['bedroom floor', 'bedroom table', 'kitchen table']\n",
      "1/1 [==============================] - 0s 135ms/step\n",
      "bedroom table\n"
     ]
    }
   ],
   "source": [
    "raw_datasets = f'{dataset_dir} data'\n",
    "split_datasets = dataset_dir\n",
    "\n",
    "CLASSES = []\n",
    "for subdir in os.listdir(raw_datasets):\n",
    "    CLASSES.append(subdir)\n",
    "    \n",
    "print(CLASSES)\n",
    "    \n",
    "index = 1\n",
    "img_num = 34\n",
    "\n",
    "TEST_IMAGES = []\n",
    "TEST_LABELS = []\n",
    "for subdir in os.listdir(split_datasets + '/test'):\n",
    "    for file in os.listdir(os.path.join(split_datasets, 'test', subdir)):\n",
    "        a = np.asarray(Image.open(f'{split_datasets}/test/{subdir}/{file}').resize(input_shape[:-1])).astype(np.float32)/255.\n",
    "        TEST_IMAGES.append(a)\n",
    "        TEST_LABELS.append(CLASSES.index(subdir))\n",
    "        \n",
    "TEST_IMAGES = np.asarray(TEST_IMAGES)\n",
    "TEST_LABELS = np.asarray(TEST_LABELS)\n",
    "\n",
    "img = np.asarray(Image.open(f'{raw_datasets}/{CLASSES[index]}/{img_num}.jpg').resize(input_shape[:-1])).astype(np.float32)/255.\n",
    "img = np.expand_dims(img, axis=0)\n",
    "pred = model.predict(img)\n",
    "print(CLASSES[np.argmax(pred)])"
   ]
  },
  {
   "cell_type": "code",
   "execution_count": 26,
   "id": "c66daa1d-1a31-408b-96ee-52399a44b151",
   "metadata": {},
   "outputs": [
    {
     "name": "stdout",
     "output_type": "stream",
     "text": [
      "{'bedroom floor': 0, 'bedroom table': 1, 'kitchen table': 2}\n",
      "2/2 [==============================] - 0s 38ms/step\n"
     ]
    },
    {
     "data": {
      "image/png": "[encoded data removed]",
      "text/plain": [
       "<Figure size 1080x1080 with 2 Axes>"
      ]
     },
     "metadata": {},
     "output_type": "display_data"
    }
   ],
   "source": [
    "file_name = f'./confusion_matrix/{model_name}/confusion_matrix_{num_classes}class_{model_name}'\n",
    "title = f'Material (6) Classification'\n",
    "\n",
    "if not os.path.exists('./confusion_matrix'):\n",
    "    os.mkdir('./confusion_matrix')\n",
    "\n",
    "if not os.path.exists(f'./confusion_matrix/{model_name}'):\n",
    "    os.mkdir(f'./confusion_matrix/{model_name}')\n",
    "\n",
    "test_labels = test_flow.class_indices\n",
    "print(test_labels)\n",
    "predictions = tf.math.argmax(model.predict(TEST_IMAGES), axis=1)\n",
    "cf = tf.math.confusion_matrix(TEST_LABELS, predictions).numpy()\n",
    "cf = cf / cf.sum(axis=1)[:, np.newaxis]\n",
    "df = pd.DataFrame(cf, index=CLASSES, columns=CLASSES)\n",
    "plt.figure(figsize=(15, 15))\n",
    "sns.set(font_scale=1.8)\n",
    "hm = sns.heatmap(df, annot=True, cmap='Blues', square=True, fmt='.2f')\n",
    "plt.xlabel('Predicted label', labelpad=40)\n",
    "plt.ylabel('Actual label', labelpad=40)\n",
    "plt.title(title, y=1.03, pad=20, fontsize=30)\n",
    "plt.savefig(file_name + '_transparent.png', transparent=True, bbox_inches=\"tight\")\n",
    "plt.savefig(file_name + '_white.png', transparent=False, facecolor='white', bbox_inches=\"tight\")"
   ]
  },
  {
   "cell_type": "code",
   "execution_count": null,
   "id": "86d21e2f-facd-40dc-9a70-0c696ae3a5a9",
   "metadata": {},
   "outputs": [],
   "source": []
  },
  {
   "cell_type": "code",
   "execution_count": null,
   "id": "458f3c6d-b02c-4bbd-bbd5-30e09986739a",
   "metadata": {},
   "outputs": [],
   "source": []
  }
 ],
 "metadata": {
  "kernelspec": {
   "display_name": "Python 3",
   "language": "python",
   "name": "python3"
  },
  "language_info": {
   "codemirror_mode": {
    "name": "ipython",
    "version": 3
   },
   "file_extension": ".py",
   "mimetype": "text/x-python",
   "name": "python",
   "nbconvert_exporter": "python",
   "pygments_lexer": "ipython3",
   "version": "3.10.4"
  }
 },
 "nbformat": 4,
 "nbformat_minor": 5
}
