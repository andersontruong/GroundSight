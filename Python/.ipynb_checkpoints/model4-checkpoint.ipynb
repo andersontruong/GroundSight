{
 "cells": [
  {
   "cell_type": "code",
   "execution_count": 1,
   "id": "0b97ffe0-2170-4456-8399-29d33df38aaf",
   "metadata": {},
   "outputs": [
    {
     "name": "stdout",
     "output_type": "stream",
     "text": [
      "2.9.1\n",
      "Num GPUs Available:  1\n"
     ]
    }
   ],
   "source": [
    "import tensorflow as tf\n",
    "from tensorflow.keras import layers\n",
    "import numpy as np\n",
    "import matplotlib.pyplot as plt\n",
    "from PIL import Image\n",
    "import random\n",
    "import os\n",
    "import seaborn as sn\n",
    "import pandas as pd\n",
    "from tensorflow.keras.preprocessing.image import ImageDataGenerator\n",
    "\n",
    "print(tf.__version__)\n",
    "print(\"Num GPUs Available: \", len(tf.config.list_physical_devices('GPU')))"
   ]
  },
  {
   "cell_type": "code",
   "execution_count": 2,
   "id": "7211ba75-9680-43af-87da-8aafe82c40a5",
   "metadata": {},
   "outputs": [
    {
     "name": "stdout",
     "output_type": "stream",
     "text": [
      "Model: \"sequential\"\n",
      "_________________________________________________________________\n",
      " Layer (type)                Output Shape              Param #   \n",
      "=================================================================\n",
      " conv2d (Conv2D)             (None, 240, 240, 32)      896       \n",
      "                                                                 \n",
      " batch_normalization (BatchN  (None, 240, 240, 32)     128       \n",
      " ormalization)                                                   \n",
      "                                                                 \n",
      " max_pooling2d (MaxPooling2D  (None, 120, 120, 32)     0         \n",
      " )                                                               \n",
      "                                                                 \n",
      " conv2d_1 (Conv2D)           (None, 120, 120, 32)      9248      \n",
      "                                                                 \n",
      " batch_normalization_1 (Batc  (None, 120, 120, 32)     128       \n",
      " hNormalization)                                                 \n",
      "                                                                 \n",
      " max_pooling2d_1 (MaxPooling  (None, 60, 60, 32)       0         \n",
      " 2D)                                                             \n",
      "                                                                 \n",
      " conv2d_2 (Conv2D)           (None, 60, 60, 64)        18496     \n",
      "                                                                 \n",
      " batch_normalization_2 (Batc  (None, 60, 60, 64)       256       \n",
      " hNormalization)                                                 \n",
      "                                                                 \n",
      " max_pooling2d_2 (MaxPooling  (None, 30, 30, 64)       0         \n",
      " 2D)                                                             \n",
      "                                                                 \n",
      " conv2d_3 (Conv2D)           (None, 30, 30, 64)        36928     \n",
      "                                                                 \n",
      " batch_normalization_3 (Batc  (None, 30, 30, 64)       256       \n",
      " hNormalization)                                                 \n",
      "                                                                 \n",
      " max_pooling2d_3 (MaxPooling  (None, 15, 15, 64)       0         \n",
      " 2D)                                                             \n",
      "                                                                 \n",
      " conv2d_4 (Conv2D)           (None, 15, 15, 32)        18464     \n",
      "                                                                 \n",
      " batch_normalization_4 (Batc  (None, 15, 15, 32)       128       \n",
      " hNormalization)                                                 \n",
      "                                                                 \n",
      " max_pooling2d_4 (MaxPooling  (None, 7, 7, 32)         0         \n",
      " 2D)                                                             \n",
      "                                                                 \n",
      " flatten (Flatten)           (None, 1568)              0         \n",
      "                                                                 \n",
      " dense (Dense)               (None, 256)               401664    \n",
      "                                                                 \n",
      " dropout (Dropout)           (None, 256)               0         \n",
      "                                                                 \n",
      " dense_1 (Dense)             (None, 64)                16448     \n",
      "                                                                 \n",
      " dropout_1 (Dropout)         (None, 64)                0         \n",
      "                                                                 \n",
      " dense_2 (Dense)             (None, 6)                 390       \n",
      "                                                                 \n",
      "=================================================================\n",
      "Total params: 503,430\n",
      "Trainable params: 502,982\n",
      "Non-trainable params: 448\n",
      "_________________________________________________________________\n"
     ]
    }
   ],
   "source": [
    "LR = 5e-4\n",
    "batch_size = 4\n",
    "epochs = 70\n",
    "patience = 10\n",
    "dropout = 0.3\n",
    "model_name = f'model4_6_lr{LR:.0e}_b{batch_size}_do{dropout}'\n",
    "\n",
    "input_shape = (240, 240, 3)\n",
    "num_classes = 6\n",
    "model = tf.keras.Sequential(\n",
    "    [\n",
    "        tf.keras.Input(shape=input_shape),\n",
    "        layers.Conv2D(32, kernel_size=(3, 3), activation='relu', kernel_initializer='he_uniform', padding='same'),\n",
    "        layers.BatchNormalization(),\n",
    "        layers.MaxPooling2D(pool_size=(2, 2)),\n",
    "        layers.Conv2D(32, kernel_size=(3, 3), activation='relu', kernel_initializer='he_uniform', padding='same'),\n",
    "        layers.BatchNormalization(),\n",
    "        layers.MaxPooling2D(pool_size=(2, 2)),\n",
    "        layers.Conv2D(64, kernel_size=(3, 3), activation='relu', kernel_initializer='he_uniform', padding='same'),\n",
    "        layers.BatchNormalization(),\n",
    "        layers.MaxPooling2D(pool_size=(2, 2)),\n",
    "        layers.Conv2D(64, kernel_size=(3, 3), activation='relu', kernel_initializer='he_uniform', padding='same'),\n",
    "        layers.BatchNormalization(),\n",
    "        layers.MaxPooling2D(pool_size=(2, 2)),\n",
    "        layers.Conv2D(32, kernel_size=(3, 3), activation='relu', kernel_initializer='he_uniform', padding='same'),\n",
    "        layers.BatchNormalization(),\n",
    "        layers.MaxPooling2D(pool_size=(2, 2)),\n",
    "        \n",
    "        layers.Flatten(),\n",
    "        layers.Dense(256, activation='relu'),\n",
    "        layers.Dropout(dropout),\n",
    "        layers.Dense(64, activation='relu'),\n",
    "        layers.Dropout(dropout),\n",
    "        layers.Dense(num_classes, activation='softmax'),\n",
    "    ]\n",
    ")\n",
    "model.summary()\n",
    "model.compile(optimizer=tf.keras.optimizers.Adam(LR),\n",
    "              loss=tf.keras.losses.categorical_crossentropy,\n",
    "              metrics=['accuracy'])"
   ]
  },
  {
   "cell_type": "code",
   "execution_count": 3,
   "id": "a99bada7-668c-4cdf-96b2-afeac1db71d5",
   "metadata": {},
   "outputs": [
    {
     "name": "stdout",
     "output_type": "stream",
     "text": [
      "Found 451 images belonging to 6 classes.\n",
      "Found 57 images belonging to 6 classes.\n",
      "Found 56 images belonging to 6 classes.\n"
     ]
    }
   ],
   "source": [
    "train_generator = ImageDataGenerator(\n",
    "        rotation_range=90,\n",
    "        height_shift_range=0.2,\n",
    "        width_shift_range=0.2,\n",
    "        shear_range=3,\n",
    "        brightness_range=(0.5, 1),\n",
    "        zoom_range=[0.8, 1],\n",
    "        horizontal_flip=True,\n",
    "        vertical_flip=True,\n",
    "        fill_mode='reflect',\n",
    "        rescale=1./255,\n",
    ")\n",
    "\n",
    "valid_generator = ImageDataGenerator(\n",
    "        rotation_range=40,\n",
    "        brightness_range=(0.5, 1),\n",
    "        zoom_range=[0.8, 1],\n",
    "        horizontal_flip=True,\n",
    "        vertical_flip=True,\n",
    "        fill_mode='reflect',\n",
    "        rescale=1./255,\n",
    ")\n",
    "\n",
    "train_flow = train_generator.flow_from_directory(\n",
    "        batch_size=batch_size,\n",
    "        directory=f'datasets/train',\n",
    "        shuffle=True,\n",
    "        target_size=(240, 240),\n",
    "    )\n",
    "\n",
    "valid_flow = valid_generator.flow_from_directory(\n",
    "        batch_size=batch_size,\n",
    "        directory=f'datasets/valid',\n",
    "        shuffle=True,\n",
    "        target_size=(240, 240),\n",
    "    )\n",
    "\n",
    "test_flow = valid_generator.flow_from_directory(\n",
    "        batch_size=batch_size,\n",
    "        directory=f'datasets/test',\n",
    "        shuffle=False,\n",
    "        target_size=(240, 240),\n",
    "    )"
   ]
  },
  {
   "cell_type": "code",
   "execution_count": 4,
   "id": "f2ef9eb4-9408-4414-ba78-6808fe822c01",
   "metadata": {
    "scrolled": true,
    "tags": []
   },
   "outputs": [
    {
     "name": "stdout",
     "output_type": "stream",
     "text": [
      "Epoch 1/70\n",
      "112/112 [==============================] - ETA: 0s - loss: 2.0441 - accuracy: 0.2931"
     ]
    },
    {
     "name": "stderr",
     "output_type": "stream",
     "text": [
      "WARNING:absl:Found untraced functions such as _jit_compiled_convolution_op, _jit_compiled_convolution_op, _jit_compiled_convolution_op, _jit_compiled_convolution_op, _jit_compiled_convolution_op while saving (showing 5 of 5). These functions will not be directly callable after loading.\n"
     ]
    },
    {
     "name": "stdout",
     "output_type": "stream",
     "text": [
      "INFO:tensorflow:Assets written to: trained_models\\model3_6_lr5e-04_b4_do0.3\\assets\n"
     ]
    },
    {
     "name": "stderr",
     "output_type": "stream",
     "text": [
      "INFO:tensorflow:Assets written to: trained_models\\model3_6_lr5e-04_b4_do0.3\\assets\n"
     ]
    },
    {
     "name": "stdout",
     "output_type": "stream",
     "text": [
      "112/112 [==============================] - 23s 138ms/step - loss: 2.0441 - accuracy: 0.2931 - val_loss: 4.0427 - val_accuracy: 0.2679\n",
      "Epoch 2/70\n",
      "112/112 [==============================] - 8s 74ms/step - loss: 1.4155 - accuracy: 0.4698 - val_loss: 6.5495 - val_accuracy: 0.1786\n",
      "Epoch 3/70\n",
      "112/112 [==============================] - 8s 72ms/step - loss: 1.3347 - accuracy: 0.4810 - val_loss: 5.7687 - val_accuracy: 0.1964\n",
      "Epoch 4/70\n",
      "112/112 [==============================] - ETA: 0s - loss: 1.2432 - accuracy: 0.5481"
     ]
    },
    {
     "name": "stderr",
     "output_type": "stream",
     "text": [
      "WARNING:absl:Found untraced functions such as _jit_compiled_convolution_op, _jit_compiled_convolution_op, _jit_compiled_convolution_op, _jit_compiled_convolution_op, _jit_compiled_convolution_op while saving (showing 5 of 5). These functions will not be directly callable after loading.\n"
     ]
    },
    {
     "name": "stdout",
     "output_type": "stream",
     "text": [
      "INFO:tensorflow:Assets written to: trained_models\\model3_6_lr5e-04_b4_do0.3\\assets\n"
     ]
    },
    {
     "name": "stderr",
     "output_type": "stream",
     "text": [
      "INFO:tensorflow:Assets written to: trained_models\\model3_6_lr5e-04_b4_do0.3\\assets\n"
     ]
    },
    {
     "name": "stdout",
     "output_type": "stream",
     "text": [
      "112/112 [==============================] - 11s 99ms/step - loss: 1.2432 - accuracy: 0.5481 - val_loss: 2.7692 - val_accuracy: 0.2321\n",
      "Epoch 5/70\n",
      "112/112 [==============================] - ETA: 0s - loss: 1.1062 - accuracy: 0.5727"
     ]
    },
    {
     "name": "stderr",
     "output_type": "stream",
     "text": [
      "WARNING:absl:Found untraced functions such as _jit_compiled_convolution_op, _jit_compiled_convolution_op, _jit_compiled_convolution_op, _jit_compiled_convolution_op, _jit_compiled_convolution_op while saving (showing 5 of 5). These functions will not be directly callable after loading.\n"
     ]
    },
    {
     "name": "stdout",
     "output_type": "stream",
     "text": [
      "INFO:tensorflow:Assets written to: trained_models\\model3_6_lr5e-04_b4_do0.3\\assets\n"
     ]
    },
    {
     "name": "stderr",
     "output_type": "stream",
     "text": [
      "INFO:tensorflow:Assets written to: trained_models\\model3_6_lr5e-04_b4_do0.3\\assets\n"
     ]
    },
    {
     "name": "stdout",
     "output_type": "stream",
     "text": [
      "112/112 [==============================] - 11s 97ms/step - loss: 1.1062 - accuracy: 0.5727 - val_loss: 1.1844 - val_accuracy: 0.4821\n",
      "Epoch 6/70\n",
      "112/112 [==============================] - 8s 71ms/step - loss: 0.9490 - accuracy: 0.6443 - val_loss: 1.2952 - val_accuracy: 0.5893\n",
      "Epoch 7/70\n",
      "112/112 [==============================] - ETA: 0s - loss: 0.9258 - accuracy: 0.6286"
     ]
    },
    {
     "name": "stderr",
     "output_type": "stream",
     "text": [
      "WARNING:absl:Found untraced functions such as _jit_compiled_convolution_op, _jit_compiled_convolution_op, _jit_compiled_convolution_op, _jit_compiled_convolution_op, _jit_compiled_convolution_op while saving (showing 5 of 5). These functions will not be directly callable after loading.\n"
     ]
    },
    {
     "name": "stdout",
     "output_type": "stream",
     "text": [
      "INFO:tensorflow:Assets written to: trained_models\\model3_6_lr5e-04_b4_do0.3\\assets\n"
     ]
    },
    {
     "name": "stderr",
     "output_type": "stream",
     "text": [
      "INFO:tensorflow:Assets written to: trained_models\\model3_6_lr5e-04_b4_do0.3\\assets\n"
     ]
    },
    {
     "name": "stdout",
     "output_type": "stream",
     "text": [
      "112/112 [==============================] - 11s 98ms/step - loss: 0.9258 - accuracy: 0.6286 - val_loss: 1.1010 - val_accuracy: 0.5893\n",
      "Epoch 8/70\n",
      "112/112 [==============================] - ETA: 0s - loss: 0.8350 - accuracy: 0.6868"
     ]
    },
    {
     "name": "stderr",
     "output_type": "stream",
     "text": [
      "WARNING:absl:Found untraced functions such as _jit_compiled_convolution_op, _jit_compiled_convolution_op, _jit_compiled_convolution_op, _jit_compiled_convolution_op, _jit_compiled_convolution_op while saving (showing 5 of 5). These functions will not be directly callable after loading.\n"
     ]
    },
    {
     "name": "stdout",
     "output_type": "stream",
     "text": [
      "INFO:tensorflow:Assets written to: trained_models\\model3_6_lr5e-04_b4_do0.3\\assets\n"
     ]
    },
    {
     "name": "stderr",
     "output_type": "stream",
     "text": [
      "INFO:tensorflow:Assets written to: trained_models\\model3_6_lr5e-04_b4_do0.3\\assets\n"
     ]
    },
    {
     "name": "stdout",
     "output_type": "stream",
     "text": [
      "112/112 [==============================] - 11s 98ms/step - loss: 0.8350 - accuracy: 0.6868 - val_loss: 0.7309 - val_accuracy: 0.6607\n",
      "Epoch 9/70\n",
      "112/112 [==============================] - 8s 71ms/step - loss: 0.8389 - accuracy: 0.7226 - val_loss: 2.4050 - val_accuracy: 0.4464\n",
      "Epoch 10/70\n",
      "112/112 [==============================] - 8s 70ms/step - loss: 0.8047 - accuracy: 0.7114 - val_loss: 2.2822 - val_accuracy: 0.5714\n",
      "Epoch 11/70\n",
      "112/112 [==============================] - ETA: 0s - loss: 0.6964 - accuracy: 0.7293"
     ]
    },
    {
     "name": "stderr",
     "output_type": "stream",
     "text": [
      "WARNING:absl:Found untraced functions such as _jit_compiled_convolution_op, _jit_compiled_convolution_op, _jit_compiled_convolution_op, _jit_compiled_convolution_op, _jit_compiled_convolution_op while saving (showing 5 of 5). These functions will not be directly callable after loading.\n"
     ]
    },
    {
     "name": "stdout",
     "output_type": "stream",
     "text": [
      "INFO:tensorflow:Assets written to: trained_models\\model3_6_lr5e-04_b4_do0.3\\assets\n"
     ]
    },
    {
     "name": "stderr",
     "output_type": "stream",
     "text": [
      "INFO:tensorflow:Assets written to: trained_models\\model3_6_lr5e-04_b4_do0.3\\assets\n"
     ]
    },
    {
     "name": "stdout",
     "output_type": "stream",
     "text": [
      "112/112 [==============================] - 11s 99ms/step - loss: 0.6964 - accuracy: 0.7293 - val_loss: 0.5239 - val_accuracy: 0.7321\n",
      "Epoch 12/70\n",
      "112/112 [==============================] - 8s 70ms/step - loss: 0.6220 - accuracy: 0.7808 - val_loss: 0.5242 - val_accuracy: 0.8214\n",
      "Epoch 13/70\n",
      "112/112 [==============================] - 8s 70ms/step - loss: 0.6463 - accuracy: 0.7271 - val_loss: 1.1666 - val_accuracy: 0.6786\n",
      "Epoch 14/70\n",
      "112/112 [==============================] - ETA: 0s - loss: 0.7012 - accuracy: 0.7629"
     ]
    },
    {
     "name": "stderr",
     "output_type": "stream",
     "text": [
      "WARNING:absl:Found untraced functions such as _jit_compiled_convolution_op, _jit_compiled_convolution_op, _jit_compiled_convolution_op, _jit_compiled_convolution_op, _jit_compiled_convolution_op while saving (showing 5 of 5). These functions will not be directly callable after loading.\n"
     ]
    },
    {
     "name": "stdout",
     "output_type": "stream",
     "text": [
      "INFO:tensorflow:Assets written to: trained_models\\model3_6_lr5e-04_b4_do0.3\\assets\n"
     ]
    },
    {
     "name": "stderr",
     "output_type": "stream",
     "text": [
      "INFO:tensorflow:Assets written to: trained_models\\model3_6_lr5e-04_b4_do0.3\\assets\n"
     ]
    },
    {
     "name": "stdout",
     "output_type": "stream",
     "text": [
      "112/112 [==============================] - 11s 97ms/step - loss: 0.7012 - accuracy: 0.7629 - val_loss: 0.5171 - val_accuracy: 0.8214\n",
      "Epoch 15/70\n",
      "112/112 [==============================] - 8s 71ms/step - loss: 0.5618 - accuracy: 0.7897 - val_loss: 1.8618 - val_accuracy: 0.5536\n",
      "Epoch 16/70\n",
      "112/112 [==============================] - 8s 71ms/step - loss: 0.4984 - accuracy: 0.8367 - val_loss: 1.8463 - val_accuracy: 0.3571\n",
      "Epoch 17/70\n",
      "112/112 [==============================] - 8s 71ms/step - loss: 0.5729 - accuracy: 0.7942 - val_loss: 0.5523 - val_accuracy: 0.7500\n",
      "Epoch 18/70\n",
      "112/112 [==============================] - 8s 71ms/step - loss: 0.5784 - accuracy: 0.7808 - val_loss: 0.8510 - val_accuracy: 0.6429\n",
      "Epoch 19/70\n",
      "112/112 [==============================] - 8s 70ms/step - loss: 0.4493 - accuracy: 0.8367 - val_loss: 0.8029 - val_accuracy: 0.7143\n",
      "Epoch 20/70\n",
      "112/112 [==============================] - 8s 70ms/step - loss: 0.3817 - accuracy: 0.8479 - val_loss: 0.5621 - val_accuracy: 0.7679\n",
      "Epoch 21/70\n",
      "112/112 [==============================] - 8s 70ms/step - loss: 0.5195 - accuracy: 0.8300 - val_loss: 0.5306 - val_accuracy: 0.7857\n",
      "Epoch 22/70\n",
      "112/112 [==============================] - ETA: 0s - loss: 0.5861 - accuracy: 0.8143"
     ]
    },
    {
     "name": "stderr",
     "output_type": "stream",
     "text": [
      "WARNING:absl:Found untraced functions such as _jit_compiled_convolution_op, _jit_compiled_convolution_op, _jit_compiled_convolution_op, _jit_compiled_convolution_op, _jit_compiled_convolution_op while saving (showing 5 of 5). These functions will not be directly callable after loading.\n"
     ]
    },
    {
     "name": "stdout",
     "output_type": "stream",
     "text": [
      "INFO:tensorflow:Assets written to: trained_models\\model3_6_lr5e-04_b4_do0.3\\assets\n"
     ]
    },
    {
     "name": "stderr",
     "output_type": "stream",
     "text": [
      "INFO:tensorflow:Assets written to: trained_models\\model3_6_lr5e-04_b4_do0.3\\assets\n"
     ]
    },
    {
     "name": "stdout",
     "output_type": "stream",
     "text": [
      "112/112 [==============================] - 11s 98ms/step - loss: 0.5861 - accuracy: 0.8143 - val_loss: 0.3635 - val_accuracy: 0.8750\n",
      "Epoch 23/70\n",
      "112/112 [==============================] - 8s 71ms/step - loss: 0.3902 - accuracy: 0.8792 - val_loss: 1.8719 - val_accuracy: 0.5893\n",
      "Epoch 24/70\n",
      "112/112 [==============================] - 8s 71ms/step - loss: 0.3818 - accuracy: 0.8479 - val_loss: 2.2444 - val_accuracy: 0.5357\n",
      "Epoch 25/70\n",
      "112/112 [==============================] - 8s 71ms/step - loss: 0.3356 - accuracy: 0.8881 - val_loss: 1.8266 - val_accuracy: 0.5714\n",
      "Epoch 26/70\n",
      "112/112 [==============================] - ETA: 0s - loss: 0.4066 - accuracy: 0.8568"
     ]
    },
    {
     "name": "stderr",
     "output_type": "stream",
     "text": [
      "WARNING:absl:Found untraced functions such as _jit_compiled_convolution_op, _jit_compiled_convolution_op, _jit_compiled_convolution_op, _jit_compiled_convolution_op, _jit_compiled_convolution_op while saving (showing 5 of 5). These functions will not be directly callable after loading.\n"
     ]
    },
    {
     "name": "stdout",
     "output_type": "stream",
     "text": [
      "INFO:tensorflow:Assets written to: trained_models\\model3_6_lr5e-04_b4_do0.3\\assets\n"
     ]
    },
    {
     "name": "stderr",
     "output_type": "stream",
     "text": [
      "INFO:tensorflow:Assets written to: trained_models\\model3_6_lr5e-04_b4_do0.3\\assets\n"
     ]
    },
    {
     "name": "stdout",
     "output_type": "stream",
     "text": [
      "112/112 [==============================] - 11s 97ms/step - loss: 0.4066 - accuracy: 0.8568 - val_loss: 0.3184 - val_accuracy: 0.8750\n",
      "Epoch 27/70\n",
      "112/112 [==============================] - 8s 73ms/step - loss: 0.4201 - accuracy: 0.8658 - val_loss: 0.6573 - val_accuracy: 0.7500\n",
      "Epoch 28/70\n",
      "112/112 [==============================] - ETA: 0s - loss: 0.3664 - accuracy: 0.8792"
     ]
    },
    {
     "name": "stderr",
     "output_type": "stream",
     "text": [
      "WARNING:absl:Found untraced functions such as _jit_compiled_convolution_op, _jit_compiled_convolution_op, _jit_compiled_convolution_op, _jit_compiled_convolution_op, _jit_compiled_convolution_op while saving (showing 5 of 5). These functions will not be directly callable after loading.\n"
     ]
    },
    {
     "name": "stdout",
     "output_type": "stream",
     "text": [
      "INFO:tensorflow:Assets written to: trained_models\\model3_6_lr5e-04_b4_do0.3\\assets\n"
     ]
    },
    {
     "name": "stderr",
     "output_type": "stream",
     "text": [
      "INFO:tensorflow:Assets written to: trained_models\\model3_6_lr5e-04_b4_do0.3\\assets\n"
     ]
    },
    {
     "name": "stdout",
     "output_type": "stream",
     "text": [
      "112/112 [==============================] - 11s 99ms/step - loss: 0.3664 - accuracy: 0.8792 - val_loss: 0.2810 - val_accuracy: 0.9464\n",
      "Epoch 29/70\n",
      "112/112 [==============================] - 8s 71ms/step - loss: 0.2718 - accuracy: 0.9105 - val_loss: 2.3988 - val_accuracy: 0.6607\n",
      "Epoch 30/70\n",
      "112/112 [==============================] - 8s 71ms/step - loss: 0.3480 - accuracy: 0.8904 - val_loss: 0.3541 - val_accuracy: 0.8393\n",
      "Epoch 31/70\n",
      "112/112 [==============================] - 8s 71ms/step - loss: 0.3294 - accuracy: 0.9016 - val_loss: 0.4324 - val_accuracy: 0.8393\n",
      "Epoch 32/70\n",
      "112/112 [==============================] - 8s 71ms/step - loss: 0.3722 - accuracy: 0.8770 - val_loss: 1.0021 - val_accuracy: 0.7143\n",
      "Epoch 33/70\n",
      "112/112 [==============================] - 8s 70ms/step - loss: 0.4104 - accuracy: 0.8770 - val_loss: 1.0232 - val_accuracy: 0.7500\n",
      "Epoch 34/70\n",
      "112/112 [==============================] - 8s 71ms/step - loss: 0.3463 - accuracy: 0.8837 - val_loss: 6.9318 - val_accuracy: 0.3036\n",
      "Epoch 35/70\n",
      "112/112 [==============================] - 8s 71ms/step - loss: 0.3101 - accuracy: 0.8881 - val_loss: 0.6304 - val_accuracy: 0.8393\n",
      "Epoch 36/70\n",
      "112/112 [==============================] - 8s 71ms/step - loss: 0.2971 - accuracy: 0.9060 - val_loss: 2.0465 - val_accuracy: 0.6071\n",
      "Epoch 37/70\n",
      "112/112 [==============================] - ETA: 0s - loss: 0.2100 - accuracy: 0.9195"
     ]
    },
    {
     "name": "stderr",
     "output_type": "stream",
     "text": [
      "WARNING:absl:Found untraced functions such as _jit_compiled_convolution_op, _jit_compiled_convolution_op, _jit_compiled_convolution_op, _jit_compiled_convolution_op, _jit_compiled_convolution_op while saving (showing 5 of 5). These functions will not be directly callable after loading.\n"
     ]
    },
    {
     "name": "stdout",
     "output_type": "stream",
     "text": [
      "INFO:tensorflow:Assets written to: trained_models\\model3_6_lr5e-04_b4_do0.3\\assets\n"
     ]
    },
    {
     "name": "stderr",
     "output_type": "stream",
     "text": [
      "INFO:tensorflow:Assets written to: trained_models\\model3_6_lr5e-04_b4_do0.3\\assets\n"
     ]
    },
    {
     "name": "stdout",
     "output_type": "stream",
     "text": [
      "112/112 [==============================] - 11s 99ms/step - loss: 0.2100 - accuracy: 0.9195 - val_loss: 0.1610 - val_accuracy: 0.8929\n",
      "Epoch 38/70\n",
      "112/112 [==============================] - 8s 72ms/step - loss: 0.1684 - accuracy: 0.9374 - val_loss: 0.4884 - val_accuracy: 0.8750\n",
      "Epoch 39/70\n",
      "112/112 [==============================] - 8s 71ms/step - loss: 0.2546 - accuracy: 0.9083 - val_loss: 0.9550 - val_accuracy: 0.6607\n",
      "Epoch 40/70\n",
      "112/112 [==============================] - 8s 71ms/step - loss: 0.2728 - accuracy: 0.9195 - val_loss: 0.1817 - val_accuracy: 0.9464\n",
      "Epoch 41/70\n",
      "112/112 [==============================] - 8s 71ms/step - loss: 0.3476 - accuracy: 0.8837 - val_loss: 1.3317 - val_accuracy: 0.7500\n",
      "Epoch 42/70\n",
      "112/112 [==============================] - 8s 71ms/step - loss: 0.1630 - accuracy: 0.9418 - val_loss: 0.2839 - val_accuracy: 0.8929\n",
      "Epoch 43/70\n",
      "112/112 [==============================] - 8s 70ms/step - loss: 0.3015 - accuracy: 0.8993 - val_loss: 2.6121 - val_accuracy: 0.6429\n",
      "Epoch 44/70\n",
      "112/112 [==============================] - 8s 70ms/step - loss: 0.2623 - accuracy: 0.9060 - val_loss: 0.5402 - val_accuracy: 0.8214\n",
      "Epoch 45/70\n",
      "112/112 [==============================] - 8s 71ms/step - loss: 0.3716 - accuracy: 0.8747 - val_loss: 2.3374 - val_accuracy: 0.7143\n",
      "Epoch 46/70\n",
      "112/112 [==============================] - ETA: 0s - loss: 0.1968 - accuracy: 0.9396"
     ]
    },
    {
     "name": "stderr",
     "output_type": "stream",
     "text": [
      "WARNING:absl:Found untraced functions such as _jit_compiled_convolution_op, _jit_compiled_convolution_op, _jit_compiled_convolution_op, _jit_compiled_convolution_op, _jit_compiled_convolution_op while saving (showing 5 of 5). These functions will not be directly callable after loading.\n"
     ]
    },
    {
     "name": "stdout",
     "output_type": "stream",
     "text": [
      "INFO:tensorflow:Assets written to: trained_models\\model3_6_lr5e-04_b4_do0.3\\assets\n"
     ]
    },
    {
     "name": "stderr",
     "output_type": "stream",
     "text": [
      "INFO:tensorflow:Assets written to: trained_models\\model3_6_lr5e-04_b4_do0.3\\assets\n"
     ]
    },
    {
     "name": "stdout",
     "output_type": "stream",
     "text": [
      "112/112 [==============================] - 11s 98ms/step - loss: 0.1968 - accuracy: 0.9396 - val_loss: 0.1143 - val_accuracy: 0.9821\n",
      "Epoch 47/70\n",
      "112/112 [==============================] - 8s 71ms/step - loss: 0.2404 - accuracy: 0.9016 - val_loss: 0.6688 - val_accuracy: 0.7857\n",
      "Epoch 48/70\n",
      "112/112 [==============================] - 8s 71ms/step - loss: 0.2722 - accuracy: 0.9172 - val_loss: 0.5203 - val_accuracy: 0.7857\n",
      "Epoch 49/70\n",
      "112/112 [==============================] - 8s 72ms/step - loss: 0.1576 - accuracy: 0.9374 - val_loss: 0.2251 - val_accuracy: 0.9286\n",
      "Epoch 50/70\n",
      "112/112 [==============================] - 8s 71ms/step - loss: 0.2091 - accuracy: 0.9195 - val_loss: 0.3226 - val_accuracy: 0.8214\n",
      "Epoch 51/70\n",
      "112/112 [==============================] - 8s 72ms/step - loss: 0.2418 - accuracy: 0.9374 - val_loss: 0.1509 - val_accuracy: 0.9464\n",
      "Epoch 52/70\n",
      "112/112 [==============================] - 8s 72ms/step - loss: 0.2224 - accuracy: 0.9060 - val_loss: 0.4315 - val_accuracy: 0.8393\n",
      "Epoch 53/70\n",
      "112/112 [==============================] - 8s 72ms/step - loss: 0.1396 - accuracy: 0.9485 - val_loss: 0.1857 - val_accuracy: 0.9464\n",
      "Epoch 54/70\n",
      "112/112 [==============================] - 8s 73ms/step - loss: 0.3728 - accuracy: 0.8971 - val_loss: 1.1658 - val_accuracy: 0.6250\n",
      "Epoch 55/70\n",
      "112/112 [==============================] - 8s 71ms/step - loss: 0.2584 - accuracy: 0.9038 - val_loss: 0.1920 - val_accuracy: 0.9464\n",
      "Epoch 56/70\n",
      "112/112 [==============================] - 8s 72ms/step - loss: 0.2704 - accuracy: 0.9172 - val_loss: 0.7729 - val_accuracy: 0.7143\n"
     ]
    }
   ],
   "source": [
    "STEP_SIZE_TRAIN=train_flow.n//train_flow.batch_size\n",
    "STEP_SIZE_VALID=valid_flow.n//valid_flow.batch_size\n",
    "\n",
    "checkpoint = tf.keras.callbacks.ModelCheckpoint(f'trained_models/{model_name}', save_best_only=True)\n",
    "stop_early = tf.keras.callbacks.EarlyStopping(monitor='val_loss', patience=patience)\n",
    "history = model.fit(train_flow,\n",
    "            steps_per_epoch=STEP_SIZE_TRAIN,\n",
    "            validation_data=valid_flow,\n",
    "            validation_steps=STEP_SIZE_VALID,\n",
    "            epochs=epochs,\n",
    "            callbacks=[stop_early, checkpoint],\n",
    ")"
   ]
  },
  {
   "cell_type": "code",
   "execution_count": 5,
   "id": "40ff3e77-9e9e-4d56-abee-f7543a29a9f8",
   "metadata": {},
   "outputs": [],
   "source": [
    "# Save training history\n",
    "hist_df = pd.DataFrame(history.history) \n",
    "hist_csv_file = f'trained_models/{model_name}/history.csv'\n",
    "with open(hist_csv_file, mode='w') as f:\n",
    "    hist_df.to_csv(f)"
   ]
  },
  {
   "cell_type": "code",
   "execution_count": 6,
   "id": "43963840-c509-4c53-b69c-7c0201d1d866",
   "metadata": {},
   "outputs": [
    {
     "name": "stdout",
     "output_type": "stream",
     "text": [
      "14/14 [==============================] - 1s 71ms/step - loss: 0.1016 - accuracy: 0.9464\n",
      "evaluate accuracy: 94.64%\n"
     ]
    }
   ],
   "source": [
    "model = tf.keras.models.load_model('trained_models/' + model_name) #model_name\n",
    "\n",
    "test_flow.reset()\n",
    "\n",
    "scores = model.evaluate(test_flow)\n",
    "\n",
    "print(\"%s%s: %.2f%%\" % (\"evaluate \", model.metrics_names[1], scores[1]*100))"
   ]
  },
  {
   "cell_type": "code",
   "execution_count": 7,
   "id": "f680f26f-eaaf-45fb-863a-303fa9b87f6d",
   "metadata": {},
   "outputs": [
    {
     "data": {
      "image/png": "[encoded data removed]",
      "text/plain": [
       "<Figure size 432x288 with 1 Axes>"
      ]
     },
     "metadata": {
      "needs_background": "light"
     },
     "output_type": "display_data"
    }
   ],
   "source": [
    "plt.plot(history.history['accuracy'])\n",
    "plt.plot(history.history['val_accuracy'])\n",
    "plt.title('model accuracy')\n",
    "plt.ylabel('accuracy')\n",
    "plt.xlabel('epoch')\n",
    "plt.legend(['train', 'val'], loc='upper left')\n",
    "plt.show()"
   ]
  },
  {
   "cell_type": "code",
   "execution_count": 8,
   "id": "543668e7-c877-46f4-8c60-f2bc75d7fa8e",
   "metadata": {},
   "outputs": [
    {
     "data": {
      "image/png": "[encoded data removed]",
      "text/plain": [
       "<Figure size 432x288 with 1 Axes>"
      ]
     },
     "metadata": {
      "needs_background": "light"
     },
     "output_type": "display_data"
    }
   ],
   "source": [
    "plt.plot(history.history['loss'])\n",
    "plt.plot(history.history['val_loss'])\n",
    "plt.title('model loss')\n",
    "plt.ylabel('loss')\n",
    "plt.xlabel('epoch')\n",
    "plt.legend(['train', 'val'], loc='upper left')\n",
    "plt.show()"
   ]
  },
  {
   "cell_type": "code",
   "execution_count": 9,
   "id": "7f2ed930-ba5b-488e-a6dc-dc7f478d5de0",
   "metadata": {},
   "outputs": [
    {
     "name": "stdout",
     "output_type": "stream",
     "text": [
      "['gray painted wood', 'gray rug', 'gray wood', 'light brown wood', 'rubber stairs', 'stone tile']\n",
      "1/1 [==============================] - 0s 311ms/step\n",
      "gray wood\n"
     ]
    }
   ],
   "source": [
    "CLASSES = []\n",
    "for subdir in os.listdir('raw_datasets'):\n",
    "    CLASSES.append(subdir)\n",
    "    \n",
    "print(CLASSES)\n",
    "    \n",
    "index = 2\n",
    "img_num = 34\n",
    "\n",
    "TEST_IMAGES = []\n",
    "TEST_LABELS = []\n",
    "for subdir in os.listdir('datasets/test'):\n",
    "    for file in os.listdir(os.path.join('datasets', 'test', subdir)):\n",
    "        TEST_IMAGES.append(np.asarray(Image.open(f'datasets/test/{subdir}/{file}')).astype(np.float32)/255.)\n",
    "        TEST_LABELS.append(CLASSES.index(subdir))\n",
    "        \n",
    "TEST_IMAGES = np.asarray(TEST_IMAGES)\n",
    "TEST_LABELS = np.asarray(TEST_LABELS)\n",
    "        \n",
    "img = np.asarray(Image.open(f'raw_datasets/{CLASSES[index]}/{img_num}.jpg')).astype(np.float32)/255.\n",
    "img = np.expand_dims(img, axis=0)\n",
    "pred = model.predict(img)\n",
    "print(CLASSES[np.argmax(pred)])"
   ]
  },
  {
   "cell_type": "code",
   "execution_count": 10,
   "id": "c66daa1d-1a31-408b-96ee-52399a44b151",
   "metadata": {},
   "outputs": [
    {
     "name": "stdout",
     "output_type": "stream",
     "text": [
      "{'gray painted wood': 0, 'gray rug': 1, 'gray wood': 2, 'light brown wood': 3, 'rubber stairs': 4, 'stone tile': 5}\n",
      "2/2 [==============================] - 1s 188ms/step\n"
     ]
    },
    {
     "data": {
      "image/png": "[encoded data removed]",
      "text/plain": [
       "<Figure size 1080x1080 with 2 Axes>"
      ]
     },
     "metadata": {
      "needs_background": "light"
     },
     "output_type": "display_data"
    }
   ],
   "source": [
    "file_name = f'./confusion_matrix/{model_name}/confusion_matrix_{num_classes}class_{model_name}'\n",
    "title = f'Material (6) Classification'\n",
    "\n",
    "if not os.path.exists('./confusion_matrix'):\n",
    "    os.mkdir('./confusion_matrix')\n",
    "\n",
    "if not os.path.exists(f'./confusion_matrix/{model_name}'):\n",
    "    os.mkdir(f'./confusion_matrix/{model_name}')\n",
    "\n",
    "test_labels = test_flow.class_indices\n",
    "print(test_labels)\n",
    "predictions = tf.math.argmax(model.predict(TEST_IMAGES), axis=1)\n",
    "cf = tf.math.confusion_matrix(TEST_LABELS, predictions).numpy()\n",
    "cf = cf / cf.sum(axis=1)[:, np.newaxis]\n",
    "df = pd.DataFrame(cf, index=CLASSES, columns=CLASSES)\n",
    "plt.figure(figsize=(15, 15))\n",
    "sn.set(font_scale=1.8)\n",
    "hm = sn.heatmap(df, annot=True, cmap='Blues', square=True, fmt='.2f')\n",
    "plt.xlabel('Predicted label', labelpad=40)\n",
    "plt.ylabel('Actual label', labelpad=40)\n",
    "plt.title(title, y=1.03, pad=20, fontsize=30)\n",
    "plt.savefig(file_name + '_transparent.png', transparent=True)\n",
    "plt.savefig(file_name + '_white.png', transparent=False, facecolor='white')"
   ]
  },
  {
   "cell_type": "code",
   "execution_count": null,
   "id": "86d21e2f-facd-40dc-9a70-0c696ae3a5a9",
   "metadata": {},
   "outputs": [],
   "source": []
  }
 ],
 "metadata": {
  "kernelspec": {
   "display_name": "Python 3",
   "language": "python",
   "name": "python3"
  },
  "language_info": {
   "codemirror_mode": {
    "name": "ipython",
    "version": 3
   },
   "file_extension": ".py",
   "mimetype": "text/x-python",
   "name": "python",
   "nbconvert_exporter": "python",
   "pygments_lexer": "ipython3",
   "version": "3.10.4"
  }
 },
 "nbformat": 4,
 "nbformat_minor": 5
}
