{
 "cells": [
  {
   "cell_type": "code",
   "execution_count": 13,
   "id": "2b5e47f5-a683-4c7c-83b6-bc3075aef6d9",
   "metadata": {},
   "outputs": [],
   "source": [
    "import random\n",
    "import os\n",
    "import numpy as np\n",
    "from PIL import Image\n",
    "import matplotlib.pyplot as plt"
   ]
  },
  {
   "cell_type": "code",
   "execution_count": 12,
   "id": "44d4433c-f74c-48c3-a896-f06b00d4291d",
   "metadata": {},
   "outputs": [],
   "source": [
    "IMAGES_DIR = 'raw_datasets'\n",
    "DATASET_DIRS = ['light brown wood', 'gray wood', 'gray painted wood', 'gray rug', 'stone tile']\n",
    "LABEL_MAP = list(range(len(DATASET_DIRS)))\n",
    "IMAGES = []\n",
    "LABELS = []\n",
    "for i, DATASET_DIR in enumerate(DATASET_DIRS):\n",
    "    IMAGES.append(np.asarray(Image.open(f'{IMAGES_DIR}/{i}/{DATASET_DIR}/0.jpg')))"
   ]
  },
  {
   "cell_type": "code",
   "execution_count": null,
   "id": "6ce7ac52-8ecd-415e-820c-d15aca302a3c",
   "metadata": {},
   "outputs": [],
   "source": []
  }
 ],
 "metadata": {
  "kernelspec": {
   "display_name": "Python 3",
   "language": "python",
   "name": "python3"
  },
  "language_info": {
   "codemirror_mode": {
    "name": "ipython",
    "version": 3
   },
   "file_extension": ".py",
   "mimetype": "text/x-python",
   "name": "python",
   "nbconvert_exporter": "python",
   "pygments_lexer": "ipython3",
   "version": "3.10.4"
  }
 },
 "nbformat": 4,
 "nbformat_minor": 5
}
