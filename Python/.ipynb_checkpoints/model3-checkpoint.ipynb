{
 "cells": [
  {
   "cell_type": "code",
   "execution_count": 61,
   "id": "0b97ffe0-2170-4456-8399-29d33df38aaf",
   "metadata": {},
   "outputs": [
    {
     "name": "stdout",
     "output_type": "stream",
     "text": [
      "2.9.1\n",
      "Num GPUs Available:  1\n"
     ]
    }
   ],
   "source": [
    "import tensorflow as tf\n",
    "from tensorflow.keras import layers\n",
    "import numpy as np\n",
    "import matplotlib.pyplot as plt\n",
    "from PIL import Image\n",
    "import random\n",
    "import os\n",
    "import seaborn as sns\n",
    "import pandas as pd\n",
    "from tensorflow.keras.preprocessing.image import ImageDataGenerator\n",
    "\n",
    "print(tf.__version__)\n",
    "print(\"Num GPUs Available: \", len(tf.config.list_physical_devices('GPU')))"
   ]
  },
  {
   "cell_type": "code",
   "execution_count": 111,
   "id": "7211ba75-9680-43af-87da-8aafe82c40a5",
   "metadata": {},
   "outputs": [
    {
     "name": "stdout",
     "output_type": "stream",
     "text": [
      "Model: \"sequential_12\"\n",
      "_________________________________________________________________\n",
      " Layer (type)                Output Shape              Param #   \n",
      "=================================================================\n",
      " conv2d_60 (Conv2D)          (None, 60, 60, 16)        448       \n",
      "                                                                 \n",
      " batch_normalization_60 (Bat  (None, 60, 60, 16)       64        \n",
      " chNormalization)                                                \n",
      "                                                                 \n",
      " max_pooling2d_68 (MaxPoolin  (None, 30, 30, 16)       0         \n",
      " g2D)                                                            \n",
      "                                                                 \n",
      " conv2d_61 (Conv2D)          (None, 30, 30, 16)        2320      \n",
      "                                                                 \n",
      " batch_normalization_61 (Bat  (None, 30, 30, 16)       64        \n",
      " chNormalization)                                                \n",
      "                                                                 \n",
      " max_pooling2d_69 (MaxPoolin  (None, 15, 15, 16)       0         \n",
      " g2D)                                                            \n",
      "                                                                 \n",
      " conv2d_62 (Conv2D)          (None, 15, 15, 32)        4640      \n",
      "                                                                 \n",
      " batch_normalization_62 (Bat  (None, 15, 15, 32)       128       \n",
      " chNormalization)                                                \n",
      "                                                                 \n",
      " max_pooling2d_70 (MaxPoolin  (None, 7, 7, 32)         0         \n",
      " g2D)                                                            \n",
      "                                                                 \n",
      " conv2d_63 (Conv2D)          (None, 7, 7, 32)          9248      \n",
      "                                                                 \n",
      " batch_normalization_63 (Bat  (None, 7, 7, 32)         128       \n",
      " chNormalization)                                                \n",
      "                                                                 \n",
      " max_pooling2d_71 (MaxPoolin  (None, 3, 3, 32)         0         \n",
      " g2D)                                                            \n",
      "                                                                 \n",
      " conv2d_64 (Conv2D)          (None, 3, 3, 16)          4624      \n",
      "                                                                 \n",
      " batch_normalization_64 (Bat  (None, 3, 3, 16)         64        \n",
      " chNormalization)                                                \n",
      "                                                                 \n",
      " max_pooling2d_72 (MaxPoolin  (None, 1, 1, 16)         0         \n",
      " g2D)                                                            \n",
      "                                                                 \n",
      " flatten_12 (Flatten)        (None, 16)                0         \n",
      "                                                                 \n",
      " dense_36 (Dense)            (None, 128)               2176      \n",
      "                                                                 \n",
      " dropout_24 (Dropout)        (None, 128)               0         \n",
      "                                                                 \n",
      " dense_37 (Dense)            (None, 32)                4128      \n",
      "                                                                 \n",
      " dropout_25 (Dropout)        (None, 32)                0         \n",
      "                                                                 \n",
      " dense_38 (Dense)            (None, 5)                 165       \n",
      "                                                                 \n",
      "=================================================================\n",
      "Total params: 28,197\n",
      "Trainable params: 27,973\n",
      "Non-trainable params: 224\n",
      "_________________________________________________________________\n"
     ]
    }
   ],
   "source": [
    "LR = 5e-4\n",
    "batch_size = 6\n",
    "epochs = 70\n",
    "patience = 30\n",
    "dropout = 0.7\n",
    "model_name = f'model3_lab_6_lr{LR:.0e}_b{batch_size}_do{dropout}'\n",
    "model_name = 'labtest'\n",
    "\n",
    "dataset_dir = 'lab'\n",
    "\n",
    "input_shape = (60, 60, 3)\n",
    "num_classes = 5\n",
    "model = tf.keras.Sequential(\n",
    "    [\n",
    "        tf.keras.Input(shape=input_shape),\n",
    "        layers.Conv2D(16, kernel_size=(3, 3), activation='relu', kernel_initializer='he_uniform', padding='same'),\n",
    "        layers.BatchNormalization(),\n",
    "        layers.MaxPooling2D(pool_size=(2, 2)),\n",
    "        layers.Conv2D(16, kernel_size=(3, 3), activation='relu', kernel_initializer='he_uniform', padding='same'),\n",
    "        layers.BatchNormalization(),\n",
    "        layers.MaxPooling2D(pool_size=(2, 2)),\n",
    "        layers.Conv2D(32, kernel_size=(3, 3), activation='relu', kernel_initializer='he_uniform', padding='same'),\n",
    "        layers.BatchNormalization(),\n",
    "        layers.MaxPooling2D(pool_size=(2, 2)),\n",
    "        layers.Conv2D(32, kernel_size=(3, 3), activation='relu', kernel_initializer='he_uniform', padding='same'),\n",
    "        layers.BatchNormalization(),\n",
    "        layers.MaxPooling2D(pool_size=(2, 2)),\n",
    "        layers.Conv2D(16, kernel_size=(3, 3), activation='relu', kernel_initializer='he_uniform', padding='same'),\n",
    "        layers.BatchNormalization(),\n",
    "        layers.MaxPooling2D(pool_size=(2, 2)),\n",
    "        \n",
    "        layers.Flatten(),\n",
    "        layers.Dense(128, activation='relu'),\n",
    "        layers.Dropout(dropout),\n",
    "        layers.Dense(32, activation='relu'),\n",
    "        layers.Dropout(dropout),\n",
    "        layers.Dense(num_classes, activation='softmax'),\n",
    "    ]\n",
    ")\n",
    "model.summary()\n",
    "model.compile(optimizer=tf.keras.optimizers.Adam(LR),\n",
    "              loss=tf.keras.losses.categorical_crossentropy,\n",
    "              metrics=['accuracy'])"
   ]
  },
  {
   "cell_type": "code",
   "execution_count": 112,
   "id": "a99bada7-668c-4cdf-96b2-afeac1db71d5",
   "metadata": {},
   "outputs": [
    {
     "name": "stdout",
     "output_type": "stream",
     "text": [
      "Found 400 images belonging to 5 classes.\n",
      "Found 70 images belonging to 5 classes.\n",
      "Found 75 images belonging to 5 classes.\n"
     ]
    }
   ],
   "source": [
    "train_generator = ImageDataGenerator(\n",
    "        rotation_range=360,\n",
    "        height_shift_range=0.5,\n",
    "        width_shift_range=0.5,\n",
    "        shear_range=70,\n",
    "        brightness_range=(0.5, 1),\n",
    "        zoom_range=[0.6, 1],\n",
    "        horizontal_flip=True,\n",
    "        vertical_flip=True,\n",
    "        fill_mode='reflect',\n",
    "        rescale=1./255,\n",
    ")\n",
    "\n",
    "valid_generator = ImageDataGenerator(\n",
    "        rotation_range=360,\n",
    "        brightness_range=(0.5, 1),\n",
    "        zoom_range=[0.6, 1],\n",
    "        horizontal_flip=True,\n",
    "        vertical_flip=True,\n",
    "        fill_mode='reflect',\n",
    "        rescale=1./255,\n",
    ")\n",
    "\n",
    "train_flow = train_generator.flow_from_directory(\n",
    "        batch_size=batch_size,\n",
    "        directory=f'{dataset_dir}/train',\n",
    "        shuffle=True,\n",
    "        target_size=input_shape[:-1],\n",
    "    )\n",
    "\n",
    "valid_flow = valid_generator.flow_from_directory(\n",
    "        batch_size=batch_size,\n",
    "        directory=f'{dataset_dir}/valid',\n",
    "        shuffle=True,\n",
    "        target_size=input_shape[:-1],\n",
    "    )\n",
    "\n",
    "test_flow = valid_generator.flow_from_directory(\n",
    "        batch_size=batch_size,\n",
    "        directory=f'{dataset_dir}/test',\n",
    "        shuffle=False,\n",
    "        target_size=input_shape[:-1],\n",
    "    )"
   ]
  },
  {
   "cell_type": "code",
   "execution_count": 119,
   "id": "4acacc22-558f-4593-8c38-d90d515abcc4",
   "metadata": {},
   "outputs": [
    {
     "data": {
      "image/png": "[encoded data removed]",
      "text/plain": [
       "<Figure size 432x288 with 1 Axes>"
      ]
     },
     "metadata": {},
     "output_type": "display_data"
    }
   ],
   "source": [
    "sns.set_style(\"whitegrid\", {'axes.grid' : False})\n",
    "for _ in range(5):\n",
    "    img, label = train_flow.next()\n",
    "    #print(img.shape)   #  (1,256,256,3)\n",
    "    plt.imshow(img[0])\n",
    "    #plt.imsave('augment.jpg', img[0])"
   ]
  },
  {
   "cell_type": "code",
   "execution_count": null,
   "id": "f2ef9eb4-9408-4414-ba78-6808fe822c01",
   "metadata": {
    "scrolled": true,
    "tags": []
   },
   "outputs": [
    {
     "name": "stdout",
     "output_type": "stream",
     "text": [
      "Epoch 1/70\n",
      "66/66 [==============================] - ETA: 0s - loss: 2.3065 - accuracy: 0.2487"
     ]
    },
    {
     "name": "stderr",
     "output_type": "stream",
     "text": [
      "WARNING:absl:Found untraced functions such as _jit_compiled_convolution_op, _jit_compiled_convolution_op, _jit_compiled_convolution_op, _jit_compiled_convolution_op, _jit_compiled_convolution_op while saving (showing 5 of 5). These functions will not be directly callable after loading.\n"
     ]
    },
    {
     "name": "stdout",
     "output_type": "stream",
     "text": [
      "INFO:tensorflow:Assets written to: trained_models\\labtest\\assets\n"
     ]
    },
    {
     "name": "stderr",
     "output_type": "stream",
     "text": [
      "INFO:tensorflow:Assets written to: trained_models\\labtest\\assets\n"
     ]
    },
    {
     "name": "stdout",
     "output_type": "stream",
     "text": [
      "66/66 [==============================] - 7s 91ms/step - loss: 2.3065 - accuracy: 0.2487 - val_loss: 1.6116 - val_accuracy: 0.1515\n",
      "Epoch 2/70\n",
      "66/66 [==============================] - ETA: 0s - loss: 2.0345 - accuracy: 0.1904"
     ]
    },
    {
     "name": "stderr",
     "output_type": "stream",
     "text": [
      "WARNING:absl:Found untraced functions such as _jit_compiled_convolution_op, _jit_compiled_convolution_op, _jit_compiled_convolution_op, _jit_compiled_convolution_op, _jit_compiled_convolution_op while saving (showing 5 of 5). These functions will not be directly callable after loading.\n"
     ]
    },
    {
     "name": "stdout",
     "output_type": "stream",
     "text": [
      "INFO:tensorflow:Assets written to: trained_models\\labtest\\assets\n"
     ]
    },
    {
     "name": "stderr",
     "output_type": "stream",
     "text": [
      "INFO:tensorflow:Assets written to: trained_models\\labtest\\assets\n"
     ]
    },
    {
     "name": "stdout",
     "output_type": "stream",
     "text": [
      "66/66 [==============================] - 4s 62ms/step - loss: 2.0345 - accuracy: 0.1904 - val_loss: 1.6063 - val_accuracy: 0.2727\n",
      "Epoch 3/70\n",
      "66/66 [==============================] - 2s 26ms/step - loss: 1.8333 - accuracy: 0.2335 - val_loss: 1.6212 - val_accuracy: 0.2273\n",
      "Epoch 4/70\n",
      "65/66 [============================>.] - ETA: 0s - loss: 1.8173 - accuracy: 0.2448"
     ]
    },
    {
     "name": "stderr",
     "output_type": "stream",
     "text": [
      "WARNING:absl:Found untraced functions such as _jit_compiled_convolution_op, _jit_compiled_convolution_op, _jit_compiled_convolution_op, _jit_compiled_convolution_op, _jit_compiled_convolution_op while saving (showing 5 of 5). These functions will not be directly callable after loading.\n"
     ]
    },
    {
     "name": "stdout",
     "output_type": "stream",
     "text": [
      "INFO:tensorflow:Assets written to: trained_models\\labtest\\assets\n"
     ]
    },
    {
     "name": "stderr",
     "output_type": "stream",
     "text": [
      "INFO:tensorflow:Assets written to: trained_models\\labtest\\assets\n"
     ]
    },
    {
     "name": "stdout",
     "output_type": "stream",
     "text": [
      "66/66 [==============================] - 4s 68ms/step - loss: 1.8162 - accuracy: 0.2462 - val_loss: 1.6061 - val_accuracy: 0.2121\n",
      "Epoch 5/70\n",
      "65/66 [============================>.] - ETA: 0s - loss: 1.7238 - accuracy: 0.2268"
     ]
    },
    {
     "name": "stderr",
     "output_type": "stream",
     "text": [
      "WARNING:absl:Found untraced functions such as _jit_compiled_convolution_op, _jit_compiled_convolution_op, _jit_compiled_convolution_op, _jit_compiled_convolution_op, _jit_compiled_convolution_op while saving (showing 5 of 5). These functions will not be directly callable after loading.\n"
     ]
    },
    {
     "name": "stdout",
     "output_type": "stream",
     "text": [
      "INFO:tensorflow:Assets written to: trained_models\\labtest\\assets\n"
     ]
    },
    {
     "name": "stderr",
     "output_type": "stream",
     "text": [
      "INFO:tensorflow:Assets written to: trained_models\\labtest\\assets\n"
     ]
    },
    {
     "name": "stdout",
     "output_type": "stream",
     "text": [
      "66/66 [==============================] - 4s 64ms/step - loss: 1.7206 - accuracy: 0.2284 - val_loss: 1.5859 - val_accuracy: 0.2424\n",
      "Epoch 6/70\n",
      "64/66 [============================>.] - ETA: 0s - loss: 1.6557 - accuracy: 0.2120"
     ]
    },
    {
     "name": "stderr",
     "output_type": "stream",
     "text": [
      "WARNING:absl:Found untraced functions such as _jit_compiled_convolution_op, _jit_compiled_convolution_op, _jit_compiled_convolution_op, _jit_compiled_convolution_op, _jit_compiled_convolution_op while saving (showing 5 of 5). These functions will not be directly callable after loading.\n"
     ]
    },
    {
     "name": "stdout",
     "output_type": "stream",
     "text": [
      "INFO:tensorflow:Assets written to: trained_models\\labtest\\assets\n"
     ]
    },
    {
     "name": "stderr",
     "output_type": "stream",
     "text": [
      "INFO:tensorflow:Assets written to: trained_models\\labtest\\assets\n"
     ]
    },
    {
     "name": "stdout",
     "output_type": "stream",
     "text": [
      "66/66 [==============================] - 4s 63ms/step - loss: 1.6535 - accuracy: 0.2157 - val_loss: 1.5764 - val_accuracy: 0.3030\n",
      "Epoch 7/70\n",
      "63/66 [===========================>..] - ETA: 0s - loss: 1.6892 - accuracy: 0.2128"
     ]
    },
    {
     "name": "stderr",
     "output_type": "stream",
     "text": [
      "WARNING:absl:Found untraced functions such as _jit_compiled_convolution_op, _jit_compiled_convolution_op, _jit_compiled_convolution_op, _jit_compiled_convolution_op, _jit_compiled_convolution_op while saving (showing 5 of 5). These functions will not be directly callable after loading.\n"
     ]
    },
    {
     "name": "stdout",
     "output_type": "stream",
     "text": [
      "INFO:tensorflow:Assets written to: trained_models\\labtest\\assets\n"
     ]
    },
    {
     "name": "stderr",
     "output_type": "stream",
     "text": [
      "INFO:tensorflow:Assets written to: trained_models\\labtest\\assets\n"
     ]
    },
    {
     "name": "stdout",
     "output_type": "stream",
     "text": [
      "66/66 [==============================] - 5s 70ms/step - loss: 1.6803 - accuracy: 0.2157 - val_loss: 1.5229 - val_accuracy: 0.4242\n",
      "Epoch 8/70\n",
      "64/66 [============================>.] - ETA: 0s - loss: 1.6189 - accuracy: 0.2565"
     ]
    },
    {
     "name": "stderr",
     "output_type": "stream",
     "text": [
      "WARNING:absl:Found untraced functions such as _jit_compiled_convolution_op, _jit_compiled_convolution_op, _jit_compiled_convolution_op, _jit_compiled_convolution_op, _jit_compiled_convolution_op while saving (showing 5 of 5). These functions will not be directly callable after loading.\n"
     ]
    },
    {
     "name": "stdout",
     "output_type": "stream",
     "text": [
      "INFO:tensorflow:Assets written to: trained_models\\labtest\\assets\n"
     ]
    },
    {
     "name": "stderr",
     "output_type": "stream",
     "text": [
      "INFO:tensorflow:Assets written to: trained_models\\labtest\\assets\n"
     ]
    },
    {
     "name": "stdout",
     "output_type": "stream",
     "text": [
      "66/66 [==============================] - 4s 63ms/step - loss: 1.6151 - accuracy: 0.2589 - val_loss: 1.4991 - val_accuracy: 0.4242\n",
      "Epoch 9/70\n",
      "64/66 [============================>.] - ETA: 0s - loss: 1.5389 - accuracy: 0.3482"
     ]
    },
    {
     "name": "stderr",
     "output_type": "stream",
     "text": [
      "WARNING:absl:Found untraced functions such as _jit_compiled_convolution_op, _jit_compiled_convolution_op, _jit_compiled_convolution_op, _jit_compiled_convolution_op, _jit_compiled_convolution_op while saving (showing 5 of 5). These functions will not be directly callable after loading.\n"
     ]
    },
    {
     "name": "stdout",
     "output_type": "stream",
     "text": [
      "INFO:tensorflow:Assets written to: trained_models\\labtest\\assets\n"
     ]
    },
    {
     "name": "stderr",
     "output_type": "stream",
     "text": [
      "INFO:tensorflow:Assets written to: trained_models\\labtest\\assets\n"
     ]
    },
    {
     "name": "stdout",
     "output_type": "stream",
     "text": [
      "66/66 [==============================] - 4s 63ms/step - loss: 1.5398 - accuracy: 0.3477 - val_loss: 1.4924 - val_accuracy: 0.4394\n",
      "Epoch 10/70\n",
      "64/66 [============================>.] - ETA: 0s - loss: 1.5461 - accuracy: 0.3377"
     ]
    },
    {
     "name": "stderr",
     "output_type": "stream",
     "text": [
      "WARNING:absl:Found untraced functions such as _jit_compiled_convolution_op, _jit_compiled_convolution_op, _jit_compiled_convolution_op, _jit_compiled_convolution_op, _jit_compiled_convolution_op while saving (showing 5 of 5). These functions will not be directly callable after loading.\n"
     ]
    },
    {
     "name": "stdout",
     "output_type": "stream",
     "text": [
      "INFO:tensorflow:Assets written to: trained_models\\labtest\\assets\n"
     ]
    },
    {
     "name": "stderr",
     "output_type": "stream",
     "text": [
      "INFO:tensorflow:Assets written to: trained_models\\labtest\\assets\n"
     ]
    },
    {
     "name": "stdout",
     "output_type": "stream",
     "text": [
      "66/66 [==============================] - 4s 65ms/step - loss: 1.5379 - accuracy: 0.3376 - val_loss: 1.4233 - val_accuracy: 0.5152\n",
      "Epoch 11/70\n",
      "64/66 [============================>.] - ETA: 0s - loss: 1.5094 - accuracy: 0.3586"
     ]
    },
    {
     "name": "stderr",
     "output_type": "stream",
     "text": [
      "WARNING:absl:Found untraced functions such as _jit_compiled_convolution_op, _jit_compiled_convolution_op, _jit_compiled_convolution_op, _jit_compiled_convolution_op, _jit_compiled_convolution_op while saving (showing 5 of 5). These functions will not be directly callable after loading.\n"
     ]
    },
    {
     "name": "stdout",
     "output_type": "stream",
     "text": [
      "INFO:tensorflow:Assets written to: trained_models\\labtest\\assets\n"
     ]
    },
    {
     "name": "stderr",
     "output_type": "stream",
     "text": [
      "INFO:tensorflow:Assets written to: trained_models\\labtest\\assets\n"
     ]
    },
    {
     "name": "stdout",
     "output_type": "stream",
     "text": [
      "66/66 [==============================] - 5s 76ms/step - loss: 1.5084 - accuracy: 0.3629 - val_loss: 1.3795 - val_accuracy: 0.6212\n",
      "Epoch 12/70\n",
      "64/66 [============================>.] - ETA: 0s - loss: 1.5379 - accuracy: 0.3168"
     ]
    },
    {
     "name": "stderr",
     "output_type": "stream",
     "text": [
      "WARNING:absl:Found untraced functions such as _jit_compiled_convolution_op, _jit_compiled_convolution_op, _jit_compiled_convolution_op, _jit_compiled_convolution_op, _jit_compiled_convolution_op while saving (showing 5 of 5). These functions will not be directly callable after loading.\n"
     ]
    },
    {
     "name": "stdout",
     "output_type": "stream",
     "text": [
      "INFO:tensorflow:Assets written to: trained_models\\labtest\\assets\n"
     ]
    },
    {
     "name": "stderr",
     "output_type": "stream",
     "text": [
      "INFO:tensorflow:Assets written to: trained_models\\labtest\\assets\n"
     ]
    },
    {
     "name": "stdout",
     "output_type": "stream",
     "text": [
      "66/66 [==============================] - 4s 64ms/step - loss: 1.5382 - accuracy: 0.3096 - val_loss: 1.2692 - val_accuracy: 0.6364\n",
      "Epoch 13/70\n",
      "66/66 [==============================] - 2s 25ms/step - loss: 1.4722 - accuracy: 0.3477 - val_loss: 1.2842 - val_accuracy: 0.6212\n",
      "Epoch 14/70\n",
      "66/66 [==============================] - 1s 22ms/step - loss: 1.4496 - accuracy: 0.3807 - val_loss: 1.3088 - val_accuracy: 0.4697\n",
      "Epoch 15/70\n",
      "66/66 [==============================] - 1s 20ms/step - loss: 1.3307 - accuracy: 0.4391 - val_loss: 1.3019 - val_accuracy: 0.3939\n",
      "Epoch 16/70\n",
      "63/66 [===========================>..] - ETA: 0s - loss: 1.3087 - accuracy: 0.4814"
     ]
    },
    {
     "name": "stderr",
     "output_type": "stream",
     "text": [
      "WARNING:absl:Found untraced functions such as _jit_compiled_convolution_op, _jit_compiled_convolution_op, _jit_compiled_convolution_op, _jit_compiled_convolution_op, _jit_compiled_convolution_op while saving (showing 5 of 5). These functions will not be directly callable after loading.\n"
     ]
    },
    {
     "name": "stdout",
     "output_type": "stream",
     "text": [
      "INFO:tensorflow:Assets written to: trained_models\\labtest\\assets\n"
     ]
    },
    {
     "name": "stderr",
     "output_type": "stream",
     "text": [
      "INFO:tensorflow:Assets written to: trained_models\\labtest\\assets\n"
     ]
    },
    {
     "name": "stdout",
     "output_type": "stream",
     "text": [
      "66/66 [==============================] - 6s 88ms/step - loss: 1.3146 - accuracy: 0.4822 - val_loss: 1.1440 - val_accuracy: 0.5000\n",
      "Epoch 17/70\n",
      "64/66 [============================>.] - ETA: 0s - loss: 1.3270 - accuracy: 0.3848"
     ]
    },
    {
     "name": "stderr",
     "output_type": "stream",
     "text": [
      "WARNING:absl:Found untraced functions such as _jit_compiled_convolution_op, _jit_compiled_convolution_op, _jit_compiled_convolution_op, _jit_compiled_convolution_op, _jit_compiled_convolution_op while saving (showing 5 of 5). These functions will not be directly callable after loading.\n"
     ]
    }
   ],
   "source": [
    "STEP_SIZE_TRAIN=train_flow.n//train_flow.batch_size\n",
    "STEP_SIZE_VALID=valid_flow.n//valid_flow.batch_size\n",
    "\n",
    "checkpoint = tf.keras.callbacks.ModelCheckpoint(f'trained_models/{model_name}', save_best_only=True)\n",
    "stop_early = tf.keras.callbacks.EarlyStopping(monitor='val_loss', patience=patience)\n",
    "history = model.fit(train_flow,\n",
    "            steps_per_epoch=STEP_SIZE_TRAIN,\n",
    "            validation_data=valid_flow,\n",
    "            validation_steps=STEP_SIZE_VALID,\n",
    "            epochs=epochs,\n",
    "            callbacks=[stop_early, checkpoint],\n",
    ")"
   ]
  },
  {
   "cell_type": "code",
   "execution_count": null,
   "id": "40ff3e77-9e9e-4d56-abee-f7543a29a9f8",
   "metadata": {},
   "outputs": [],
   "source": [
    "# Save training history\n",
    "hist_df = pd.DataFrame(history.history) \n",
    "hist_csv_file = f'trained_models/{model_name}/history.csv'\n",
    "with open(hist_csv_file, mode='w') as f:\n",
    "    hist_df.to_csv(f)"
   ]
  },
  {
   "cell_type": "code",
   "execution_count": null,
   "id": "43963840-c509-4c53-b69c-7c0201d1d866",
   "metadata": {},
   "outputs": [],
   "source": [
    "model = tf.keras.models.load_model('trained_models/' + model_name) #model_name\n",
    "\n",
    "test_flow.reset()\n",
    "\n",
    "scores = model.evaluate(test_flow)\n",
    "\n",
    "print(\"%s%s: %.2f%%\" % (\"evaluate \", model.metrics_names[1], scores[1]*100))"
   ]
  },
  {
   "cell_type": "code",
   "execution_count": null,
   "id": "f680f26f-eaaf-45fb-863a-303fa9b87f6d",
   "metadata": {},
   "outputs": [],
   "source": [
    "plt.plot(history.history['accuracy'])\n",
    "plt.plot(history.history['val_accuracy'])\n",
    "plt.title('Model accuracy')\n",
    "plt.ylabel('Accuracy')\n",
    "plt.xlabel('Epoch')\n",
    "plt.legend(['Train', 'Validation'], loc='upper left')\n",
    "plt.show()"
   ]
  },
  {
   "cell_type": "code",
   "execution_count": null,
   "id": "543668e7-c877-46f4-8c60-f2bc75d7fa8e",
   "metadata": {},
   "outputs": [],
   "source": [
    "plt.plot(history.history['loss'])\n",
    "plt.plot(history.history['val_loss'])\n",
    "plt.title('Model loss')\n",
    "plt.ylabel('Loss')\n",
    "plt.xlabel('Epoch')\n",
    "plt.legend(['Train', 'Validation'], loc='upper left')\n",
    "plt.savefig('loss.png')\n",
    "plt.show()"
   ]
  },
  {
   "cell_type": "code",
   "execution_count": null,
   "id": "7f2ed930-ba5b-488e-a6dc-dc7f478d5de0",
   "metadata": {},
   "outputs": [],
   "source": [
    "raw_datasets = 'room datasets'\n",
    "split_datasets = 'room'\n",
    "\n",
    "CLASSES = []\n",
    "for subdir in os.listdir(raw_datasets):\n",
    "    CLASSES.append(subdir)\n",
    "    \n",
    "print(CLASSES)\n",
    "    \n",
    "index = 1\n",
    "img_num = 34\n",
    "\n",
    "TEST_IMAGES = []\n",
    "TEST_LABELS = []\n",
    "for subdir in os.listdir(split_datasets + '/test'):\n",
    "    for file in os.listdir(os.path.join(split_datasets, 'test', subdir)):\n",
    "        a = np.asarray(Image.open(f'{split_datasets}/test/{subdir}/{file}').resize(input_shape[:-1])).astype(np.float32)/255.\n",
    "        TEST_IMAGES.append(a)\n",
    "        TEST_LABELS.append(CLASSES.index(subdir))\n",
    "        \n",
    "TEST_IMAGES = np.asarray(TEST_IMAGES)\n",
    "TEST_LABELS = np.asarray(TEST_LABELS)\n",
    "\n",
    "img = np.asarray(Image.open(f'{raw_datasets}/{CLASSES[index]}/{img_num}.jpg').resize(input_shape[:-1])).astype(np.float32)/255.\n",
    "img = np.expand_dims(img, axis=0)\n",
    "pred = model.predict(img)\n",
    "print(CLASSES[np.argmax(pred)])"
   ]
  },
  {
   "cell_type": "code",
   "execution_count": null,
   "id": "c66daa1d-1a31-408b-96ee-52399a44b151",
   "metadata": {},
   "outputs": [],
   "source": [
    "file_name = f'./confusion_matrix/{model_name}/confusion_matrix_{num_classes}class_{model_name}'\n",
    "title = f'Material (6) Classification'\n",
    "\n",
    "if not os.path.exists('./confusion_matrix'):\n",
    "    os.mkdir('./confusion_matrix')\n",
    "\n",
    "if not os.path.exists(f'./confusion_matrix/{model_name}'):\n",
    "    os.mkdir(f'./confusion_matrix/{model_name}')\n",
    "\n",
    "test_labels = test_flow.class_indices\n",
    "print(test_labels)\n",
    "predictions = tf.math.argmax(model.predict(TEST_IMAGES), axis=1)\n",
    "cf = tf.math.confusion_matrix(TEST_LABELS, predictions).numpy()\n",
    "cf = cf / cf.sum(axis=1)[:, np.newaxis]\n",
    "df = pd.DataFrame(cf, index=CLASSES, columns=CLASSES)\n",
    "plt.figure(figsize=(15, 15))\n",
    "sns.set(font_scale=1.8)\n",
    "hm = sns.heatmap(df, annot=True, cmap='Blues', square=True, fmt='.2f')\n",
    "plt.xlabel('Predicted label', labelpad=40)\n",
    "plt.ylabel('Actual label', labelpad=40)\n",
    "plt.title(title, y=1.03, pad=20, fontsize=30)\n",
    "plt.savefig(file_name + '_transparent.png', transparent=True, bbox_inches=\"tight\")\n",
    "plt.savefig(file_name + '_white.png', transparent=False, facecolor='white', bbox_inches=\"tight\")"
   ]
  },
  {
   "cell_type": "code",
   "execution_count": null,
   "id": "86d21e2f-facd-40dc-9a70-0c696ae3a5a9",
   "metadata": {},
   "outputs": [],
   "source": []
  },
  {
   "cell_type": "code",
   "execution_count": null,
   "id": "458f3c6d-b02c-4bbd-bbd5-30e09986739a",
   "metadata": {},
   "outputs": [],
   "source": []
  }
 ],
 "metadata": {
  "kernelspec": {
   "display_name": "Python 3",
   "language": "python",
   "name": "python3"
  },
  "language_info": {
   "codemirror_mode": {
    "name": "ipython",
    "version": 3
   },
   "file_extension": ".py",
   "mimetype": "text/x-python",
   "name": "python",
   "nbconvert_exporter": "python",
   "pygments_lexer": "ipython3",
   "version": "3.10.4"
  }
 },
 "nbformat": 4,
 "nbformat_minor": 5
}
