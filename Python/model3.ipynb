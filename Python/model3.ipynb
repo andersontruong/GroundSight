{
 "cells": [
  {
   "cell_type": "code",
   "execution_count": 1,
   "id": "0b97ffe0-2170-4456-8399-29d33df38aaf",
   "metadata": {},
   "outputs": [
    {
     "name": "stdout",
     "output_type": "stream",
     "text": [
      "2.9.1\n",
      "Num GPUs Available:  1\n"
     ]
    }
   ],
   "source": [
    "import tensorflow as tf\n",
    "from tensorflow.keras import layers\n",
    "import numpy as np\n",
    "import matplotlib.pyplot as plt\n",
    "from PIL import Image\n",
    "import random\n",
    "import os\n",
    "import seaborn as sns\n",
    "import pandas as pd\n",
    "from tensorflow.keras.preprocessing.image import ImageDataGenerator\n",
    "\n",
    "print(tf.__version__)\n",
    "print(\"Num GPUs Available: \", len(tf.config.list_physical_devices('GPU')))"
   ]
  },
  {
   "cell_type": "code",
   "execution_count": 6,
   "id": "7211ba75-9680-43af-87da-8aafe82c40a5",
   "metadata": {},
   "outputs": [
    {
     "name": "stdout",
     "output_type": "stream",
     "text": [
      "Model: \"sequential_9\"\n",
      "_________________________________________________________________\n",
      " Layer (type)                Output Shape              Param #   \n",
      "=================================================================\n",
      " conv2d_38 (Conv2D)          (None, 30, 30, 16)        448       \n",
      "                                                                 \n",
      " batch_normalization_38 (Bat  (None, 30, 30, 16)       64        \n",
      " chNormalization)                                                \n",
      "                                                                 \n",
      " max_pooling2d_38 (MaxPoolin  (None, 15, 15, 16)       0         \n",
      " g2D)                                                            \n",
      "                                                                 \n",
      " conv2d_39 (Conv2D)          (None, 15, 15, 16)        2320      \n",
      "                                                                 \n",
      " batch_normalization_39 (Bat  (None, 15, 15, 16)       64        \n",
      " chNormalization)                                                \n",
      "                                                                 \n",
      " max_pooling2d_39 (MaxPoolin  (None, 7, 7, 16)         0         \n",
      " g2D)                                                            \n",
      "                                                                 \n",
      " conv2d_40 (Conv2D)          (None, 7, 7, 8)           1160      \n",
      "                                                                 \n",
      " batch_normalization_40 (Bat  (None, 7, 7, 8)          32        \n",
      " chNormalization)                                                \n",
      "                                                                 \n",
      " max_pooling2d_40 (MaxPoolin  (None, 3, 3, 8)          0         \n",
      " g2D)                                                            \n",
      "                                                                 \n",
      " flatten_9 (Flatten)         (None, 72)                0         \n",
      "                                                                 \n",
      " dense_27 (Dense)            (None, 64)                4672      \n",
      "                                                                 \n",
      " dropout_18 (Dropout)        (None, 64)                0         \n",
      "                                                                 \n",
      " dense_28 (Dense)            (None, 16)                1040      \n",
      "                                                                 \n",
      " dropout_19 (Dropout)        (None, 16)                0         \n",
      "                                                                 \n",
      " dense_29 (Dense)            (None, 3)                 51        \n",
      "                                                                 \n",
      "=================================================================\n",
      "Total params: 9,851\n",
      "Trainable params: 9,771\n",
      "Non-trainable params: 80\n",
      "_________________________________________________________________\n"
     ]
    }
   ],
   "source": [
    "LR = 5e-4\n",
    "batch_size = 6\n",
    "epochs = 70\n",
    "patience = 30\n",
    "dropout = 0.7\n",
    "model_name = f'model3_lab_6_lr{LR:.0e}_b{batch_size}_do{dropout}'\n",
    "model_name = 'test'\n",
    "\n",
    "dataset_dir = 'apartment'\n",
    "\n",
    "input_shape = (60, 60, 3)\n",
    "num_classes = 3\n",
    "model = tf.keras.Sequential(\n",
    "    [\n",
    "        tf.keras.Input(shape=input_shape),\n",
    "        layers.Conv2D(16, kernel_size=(3, 3), activation='relu', kernel_initializer='he_uniform', padding='same'),\n",
    "        layers.BatchNormalization(),\n",
    "        layers.MaxPooling2D(pool_size=(2, 2)),\n",
    "        layers.Conv2D(16, kernel_size=(3, 3), activation='relu', kernel_initializer='he_uniform', padding='same'),\n",
    "        layers.BatchNormalization(),\n",
    "        layers.MaxPooling2D(pool_size=(2, 2)),\n",
    "        layers.Conv2D(32, kernel_size=(3, 3), activation='relu', kernel_initializer='he_uniform', padding='same'),\n",
    "        layers.BatchNormalization(),\n",
    "        layers.MaxPooling2D(pool_size=(2, 2)),\n",
    "        layers.Conv2D(32, kernel_size=(3, 3), activation='relu', kernel_initializer='he_uniform', padding='same'),\n",
    "        layers.BatchNormalization(),\n",
    "        layers.MaxPooling2D(pool_size=(2, 2)),\n",
    "        layers.Conv2D(16, kernel_size=(3, 3), activation='relu', kernel_initializer='he_uniform', padding='same'),\n",
    "        layers.BatchNormalization(),\n",
    "        layers.MaxPooling2D(pool_size=(2, 2)),\n",
    "        \n",
    "        layers.Flatten(),\n",
    "        layers.Dense(128, activation='relu'),\n",
    "        layers.Dropout(dropout),\n",
    "        layers.Dense(32, activation='relu'),\n",
    "        layers.Dropout(dropout),\n",
    "        layers.Dense(num_classes, activation='softmax'),\n",
    "    ]\n",
    ")\n",
    "model.summary()\n",
    "model.compile(optimizer=tf.keras.optimizers.Adam(LR),\n",
    "              loss=tf.keras.losses.categorical_crossentropy,\n",
    "              metrics=['accuracy'])"
   ]
  },
  {
   "cell_type": "code",
   "execution_count": 7,
   "id": "a99bada7-668c-4cdf-96b2-afeac1db71d5",
   "metadata": {},
   "outputs": [
    {
     "name": "stdout",
     "output_type": "stream",
     "text": [
      "Found 240 images belonging to 3 classes.\n",
      "Found 42 images belonging to 3 classes.\n",
      "Found 45 images belonging to 3 classes.\n"
     ]
    }
   ],
   "source": [
    "train_generator = ImageDataGenerator(\n",
    "        rotation_range=360,\n",
    "        height_shift_range=0.5,\n",
    "        width_shift_range=0.5,\n",
    "        shear_range=70,\n",
    "        brightness_range=(0.5, 1),\n",
    "        zoom_range=[0.6, 1],\n",
    "        horizontal_flip=True,\n",
    "        vertical_flip=True,\n",
    "        fill_mode='reflect',\n",
    "        rescale=1./255,\n",
    ")\n",
    "\n",
    "valid_generator = ImageDataGenerator(\n",
    "        rotation_range=360,\n",
    "        brightness_range=(0.5, 1),\n",
    "        zoom_range=[0.6, 1],\n",
    "        horizontal_flip=True,\n",
    "        vertical_flip=True,\n",
    "        fill_mode='reflect',\n",
    "        rescale=1./255,\n",
    ")\n",
    "\n",
    "train_flow = train_generator.flow_from_directory(\n",
    "        batch_size=batch_size,\n",
    "        directory=f'{dataset_dir}/train',\n",
    "        shuffle=True,\n",
    "        target_size=input_shape[:-1],\n",
    "    )\n",
    "\n",
    "valid_flow = valid_generator.flow_from_directory(\n",
    "        batch_size=batch_size,\n",
    "        directory=f'{dataset_dir}/valid',\n",
    "        shuffle=True,\n",
    "        target_size=input_shape[:-1],\n",
    "    )\n",
    "\n",
    "test_flow = valid_generator.flow_from_directory(\n",
    "        batch_size=batch_size,\n",
    "        directory=f'{dataset_dir}/test',\n",
    "        shuffle=False,\n",
    "        target_size=input_shape[:-1],\n",
    "    )"
   ]
  },
  {
   "cell_type": "code",
   "execution_count": 8,
   "id": "4acacc22-558f-4593-8c38-d90d515abcc4",
   "metadata": {},
   "outputs": [
    {
     "data": {
      "image/png": "[encoded data removed]",
      "text/plain": [
       "<Figure size 432x288 with 1 Axes>"
      ]
     },
     "metadata": {},
     "output_type": "display_data"
    }
   ],
   "source": [
    "sns.set_style(\"whitegrid\", {'axes.grid' : False})\n",
    "for _ in range(5):\n",
    "    img, label = train_flow.next()\n",
    "    #print(img.shape)   #  (1,256,256,3)\n",
    "    plt.imshow(img[0])\n",
    "    #plt.imsave('augment.jpg', img[0])"
   ]
  },
  {
   "cell_type": "code",
   "execution_count": 27,
   "id": "f2ef9eb4-9408-4414-ba78-6808fe822c01",
   "metadata": {
    "scrolled": true,
    "tags": []
   },
   "outputs": [
    {
     "name": "stdout",
     "output_type": "stream",
     "text": [
      "Epoch 1/70\n",
      "36/40 [==========================>...] - ETA: 0s - loss: 2.7315 - accuracy: 0.3657"
     ]
    },
    {
     "name": "stderr",
     "output_type": "stream",
     "text": [
      "WARNING:absl:Found untraced functions such as _jit_compiled_convolution_op, _jit_compiled_convolution_op, _jit_compiled_convolution_op while saving (showing 3 of 3). These functions will not be directly callable after loading.\n"
     ]
    },
    {
     "name": "stdout",
     "output_type": "stream",
     "text": [
      "INFO:tensorflow:Assets written to: trained_models\\test_small\\assets\n"
     ]
    },
    {
     "name": "stderr",
     "output_type": "stream",
     "text": [
      "INFO:tensorflow:Assets written to: trained_models\\test_small\\assets\n"
     ]
    },
    {
     "name": "stdout",
     "output_type": "stream",
     "text": [
      "40/40 [==============================] - 4s 71ms/step - loss: 2.6137 - accuracy: 0.3750 - val_loss: 1.0917 - val_accuracy: 0.3810\n",
      "Epoch 2/70\n",
      "39/40 [============================>.] - ETA: 0s - loss: 1.8927 - accuracy: 0.3205"
     ]
    },
    {
     "name": "stderr",
     "output_type": "stream",
     "text": [
      "WARNING:absl:Found untraced functions such as _jit_compiled_convolution_op, _jit_compiled_convolution_op, _jit_compiled_convolution_op while saving (showing 3 of 3). These functions will not be directly callable after loading.\n"
     ]
    },
    {
     "name": "stdout",
     "output_type": "stream",
     "text": [
      "INFO:tensorflow:Assets written to: trained_models\\test_small\\assets\n"
     ]
    },
    {
     "name": "stderr",
     "output_type": "stream",
     "text": [
      "INFO:tensorflow:Assets written to: trained_models\\test_small\\assets\n"
     ]
    },
    {
     "name": "stdout",
     "output_type": "stream",
     "text": [
      "40/40 [==============================] - 3s 71ms/step - loss: 1.8742 - accuracy: 0.3208 - val_loss: 1.0882 - val_accuracy: 0.4286\n",
      "Epoch 3/70\n",
      "39/40 [============================>.] - ETA: 0s - loss: 1.5916 - accuracy: 0.3291"
     ]
    },
    {
     "name": "stderr",
     "output_type": "stream",
     "text": [
      "WARNING:absl:Found untraced functions such as _jit_compiled_convolution_op, _jit_compiled_convolution_op, _jit_compiled_convolution_op while saving (showing 3 of 3). These functions will not be directly callable after loading.\n"
     ]
    },
    {
     "name": "stdout",
     "output_type": "stream",
     "text": [
      "INFO:tensorflow:Assets written to: trained_models\\test_small\\assets\n"
     ]
    },
    {
     "name": "stderr",
     "output_type": "stream",
     "text": [
      "INFO:tensorflow:Assets written to: trained_models\\test_small\\assets\n"
     ]
    },
    {
     "name": "stdout",
     "output_type": "stream",
     "text": [
      "40/40 [==============================] - 3s 69ms/step - loss: 1.5837 - accuracy: 0.3292 - val_loss: 1.0874 - val_accuracy: 0.4762\n",
      "Epoch 4/70\n",
      "40/40 [==============================] - ETA: 0s - loss: 1.4856 - accuracy: 0.3417"
     ]
    },
    {
     "name": "stderr",
     "output_type": "stream",
     "text": [
      "WARNING:absl:Found untraced functions such as _jit_compiled_convolution_op, _jit_compiled_convolution_op, _jit_compiled_convolution_op while saving (showing 3 of 3). These functions will not be directly callable after loading.\n"
     ]
    },
    {
     "name": "stdout",
     "output_type": "stream",
     "text": [
      "INFO:tensorflow:Assets written to: trained_models\\test_small\\assets\n"
     ]
    },
    {
     "name": "stderr",
     "output_type": "stream",
     "text": [
      "INFO:tensorflow:Assets written to: trained_models\\test_small\\assets\n"
     ]
    },
    {
     "name": "stdout",
     "output_type": "stream",
     "text": [
      "40/40 [==============================] - 3s 65ms/step - loss: 1.4856 - accuracy: 0.3417 - val_loss: 1.0817 - val_accuracy: 0.4762\n",
      "Epoch 5/70\n",
      "39/40 [============================>.] - ETA: 0s - loss: 1.4335 - accuracy: 0.3333"
     ]
    },
    {
     "name": "stderr",
     "output_type": "stream",
     "text": [
      "WARNING:absl:Found untraced functions such as _jit_compiled_convolution_op, _jit_compiled_convolution_op, _jit_compiled_convolution_op while saving (showing 3 of 3). These functions will not be directly callable after loading.\n"
     ]
    },
    {
     "name": "stdout",
     "output_type": "stream",
     "text": [
      "INFO:tensorflow:Assets written to: trained_models\\test_small\\assets\n"
     ]
    },
    {
     "name": "stderr",
     "output_type": "stream",
     "text": [
      "INFO:tensorflow:Assets written to: trained_models\\test_small\\assets\n"
     ]
    },
    {
     "name": "stdout",
     "output_type": "stream",
     "text": [
      "40/40 [==============================] - 3s 66ms/step - loss: 1.4399 - accuracy: 0.3333 - val_loss: 1.0460 - val_accuracy: 0.5714\n",
      "Epoch 6/70\n",
      "37/40 [==========================>...] - ETA: 0s - loss: 1.3700 - accuracy: 0.3649"
     ]
    },
    {
     "name": "stderr",
     "output_type": "stream",
     "text": [
      "WARNING:absl:Found untraced functions such as _jit_compiled_convolution_op, _jit_compiled_convolution_op, _jit_compiled_convolution_op while saving (showing 3 of 3). These functions will not be directly callable after loading.\n"
     ]
    },
    {
     "name": "stdout",
     "output_type": "stream",
     "text": [
      "INFO:tensorflow:Assets written to: trained_models\\test_small\\assets\n"
     ]
    },
    {
     "name": "stderr",
     "output_type": "stream",
     "text": [
      "INFO:tensorflow:Assets written to: trained_models\\test_small\\assets\n"
     ]
    },
    {
     "name": "stdout",
     "output_type": "stream",
     "text": [
      "40/40 [==============================] - 3s 74ms/step - loss: 1.3683 - accuracy: 0.3583 - val_loss: 1.0189 - val_accuracy: 0.5000\n",
      "Epoch 7/70\n",
      "40/40 [==============================] - ETA: 0s - loss: 1.0895 - accuracy: 0.4417"
     ]
    },
    {
     "name": "stderr",
     "output_type": "stream",
     "text": [
      "WARNING:absl:Found untraced functions such as _jit_compiled_convolution_op, _jit_compiled_convolution_op, _jit_compiled_convolution_op while saving (showing 3 of 3). These functions will not be directly callable after loading.\n"
     ]
    },
    {
     "name": "stdout",
     "output_type": "stream",
     "text": [
      "INFO:tensorflow:Assets written to: trained_models\\test_small\\assets\n"
     ]
    },
    {
     "name": "stderr",
     "output_type": "stream",
     "text": [
      "INFO:tensorflow:Assets written to: trained_models\\test_small\\assets\n"
     ]
    },
    {
     "name": "stdout",
     "output_type": "stream",
     "text": [
      "40/40 [==============================] - 3s 69ms/step - loss: 1.0895 - accuracy: 0.4417 - val_loss: 0.9898 - val_accuracy: 0.5238\n",
      "Epoch 8/70\n",
      "40/40 [==============================] - 1s 15ms/step - loss: 1.1640 - accuracy: 0.4042 - val_loss: 1.0164 - val_accuracy: 0.5476\n",
      "Epoch 9/70\n",
      "40/40 [==============================] - ETA: 0s - loss: 1.1207 - accuracy: 0.4250"
     ]
    },
    {
     "name": "stderr",
     "output_type": "stream",
     "text": [
      "WARNING:absl:Found untraced functions such as _jit_compiled_convolution_op, _jit_compiled_convolution_op, _jit_compiled_convolution_op while saving (showing 3 of 3). These functions will not be directly callable after loading.\n"
     ]
    },
    {
     "name": "stdout",
     "output_type": "stream",
     "text": [
      "INFO:tensorflow:Assets written to: trained_models\\test_small\\assets\n"
     ]
    },
    {
     "name": "stderr",
     "output_type": "stream",
     "text": [
      "INFO:tensorflow:Assets written to: trained_models\\test_small\\assets\n"
     ]
    },
    {
     "name": "stdout",
     "output_type": "stream",
     "text": [
      "40/40 [==============================] - 3s 68ms/step - loss: 1.1207 - accuracy: 0.4250 - val_loss: 0.9146 - val_accuracy: 0.5476\n",
      "Epoch 10/70\n",
      "40/40 [==============================] - 1s 15ms/step - loss: 1.1583 - accuracy: 0.4083 - val_loss: 0.9397 - val_accuracy: 0.5476\n",
      "Epoch 11/70\n",
      "40/40 [==============================] - 1s 14ms/step - loss: 1.1244 - accuracy: 0.3917 - val_loss: 0.9447 - val_accuracy: 0.5476\n",
      "Epoch 12/70\n",
      "40/40 [==============================] - 1s 14ms/step - loss: 1.1493 - accuracy: 0.3125 - val_loss: 0.9977 - val_accuracy: 0.4524\n",
      "Epoch 13/70\n",
      "40/40 [==============================] - 1s 15ms/step - loss: 1.1266 - accuracy: 0.3792 - val_loss: 0.9876 - val_accuracy: 0.5476\n",
      "Epoch 14/70\n",
      "40/40 [==============================] - 1s 14ms/step - loss: 1.1164 - accuracy: 0.3792 - val_loss: 0.9783 - val_accuracy: 0.5238\n",
      "Epoch 15/70\n",
      "40/40 [==============================] - 1s 15ms/step - loss: 1.0553 - accuracy: 0.4000 - val_loss: 0.9757 - val_accuracy: 0.6190\n",
      "Epoch 16/70\n",
      "40/40 [==============================] - 1s 16ms/step - loss: 1.0745 - accuracy: 0.3833 - val_loss: 0.9254 - val_accuracy: 0.5952\n",
      "Epoch 17/70\n",
      "40/40 [==============================] - 1s 14ms/step - loss: 1.0070 - accuracy: 0.4333 - val_loss: 0.9561 - val_accuracy: 0.6905\n",
      "Epoch 18/70\n",
      "40/40 [==============================] - 1s 15ms/step - loss: 1.0278 - accuracy: 0.3875 - val_loss: 0.9409 - val_accuracy: 0.5000\n",
      "Epoch 19/70\n",
      "40/40 [==============================] - 1s 14ms/step - loss: 1.0522 - accuracy: 0.4708 - val_loss: 0.9260 - val_accuracy: 0.6190\n",
      "Epoch 20/70\n",
      "36/40 [==========================>...] - ETA: 0s - loss: 1.0002 - accuracy: 0.4444"
     ]
    },
    {
     "name": "stderr",
     "output_type": "stream",
     "text": [
      "WARNING:absl:Found untraced functions such as _jit_compiled_convolution_op, _jit_compiled_convolution_op, _jit_compiled_convolution_op while saving (showing 3 of 3). These functions will not be directly callable after loading.\n"
     ]
    },
    {
     "name": "stdout",
     "output_type": "stream",
     "text": [
      "INFO:tensorflow:Assets written to: trained_models\\test_small\\assets\n"
     ]
    },
    {
     "name": "stderr",
     "output_type": "stream",
     "text": [
      "INFO:tensorflow:Assets written to: trained_models\\test_small\\assets\n"
     ]
    },
    {
     "name": "stdout",
     "output_type": "stream",
     "text": [
      "40/40 [==============================] - 3s 72ms/step - loss: 1.0029 - accuracy: 0.4500 - val_loss: 0.8810 - val_accuracy: 0.6429\n",
      "Epoch 21/70\n",
      "40/40 [==============================] - 1s 14ms/step - loss: 1.0154 - accuracy: 0.4958 - val_loss: 0.9392 - val_accuracy: 0.6905\n",
      "Epoch 22/70\n",
      "40/40 [==============================] - 1s 16ms/step - loss: 0.9749 - accuracy: 0.5125 - val_loss: 0.9590 - val_accuracy: 0.6190\n",
      "Epoch 23/70\n",
      "40/40 [==============================] - 1s 14ms/step - loss: 0.9494 - accuracy: 0.4875 - val_loss: 0.9056 - val_accuracy: 0.6667\n",
      "Epoch 24/70\n",
      "36/40 [==========================>...] - ETA: 0s - loss: 0.9612 - accuracy: 0.4583"
     ]
    },
    {
     "name": "stderr",
     "output_type": "stream",
     "text": [
      "WARNING:absl:Found untraced functions such as _jit_compiled_convolution_op, _jit_compiled_convolution_op, _jit_compiled_convolution_op while saving (showing 3 of 3). These functions will not be directly callable after loading.\n"
     ]
    },
    {
     "name": "stdout",
     "output_type": "stream",
     "text": [
      "INFO:tensorflow:Assets written to: trained_models\\test_small\\assets\n"
     ]
    },
    {
     "name": "stderr",
     "output_type": "stream",
     "text": [
      "INFO:tensorflow:Assets written to: trained_models\\test_small\\assets\n"
     ]
    },
    {
     "name": "stdout",
     "output_type": "stream",
     "text": [
      "40/40 [==============================] - 3s 65ms/step - loss: 0.9565 - accuracy: 0.4625 - val_loss: 0.8561 - val_accuracy: 0.6667\n",
      "Epoch 25/70\n",
      "39/40 [============================>.] - ETA: 0s - loss: 0.8724 - accuracy: 0.5556"
     ]
    },
    {
     "name": "stderr",
     "output_type": "stream",
     "text": [
      "WARNING:absl:Found untraced functions such as _jit_compiled_convolution_op, _jit_compiled_convolution_op, _jit_compiled_convolution_op while saving (showing 3 of 3). These functions will not be directly callable after loading.\n"
     ]
    },
    {
     "name": "stdout",
     "output_type": "stream",
     "text": [
      "INFO:tensorflow:Assets written to: trained_models\\test_small\\assets\n"
     ]
    },
    {
     "name": "stderr",
     "output_type": "stream",
     "text": [
      "INFO:tensorflow:Assets written to: trained_models\\test_small\\assets\n"
     ]
    },
    {
     "name": "stdout",
     "output_type": "stream",
     "text": [
      "40/40 [==============================] - 3s 66ms/step - loss: 0.8789 - accuracy: 0.5500 - val_loss: 0.8470 - val_accuracy: 0.6905\n",
      "Epoch 26/70\n",
      "40/40 [==============================] - 1s 15ms/step - loss: 0.9083 - accuracy: 0.5292 - val_loss: 0.8501 - val_accuracy: 0.6905\n",
      "Epoch 27/70\n",
      "40/40 [==============================] - ETA: 0s - loss: 0.8630 - accuracy: 0.5667"
     ]
    },
    {
     "name": "stderr",
     "output_type": "stream",
     "text": [
      "WARNING:absl:Found untraced functions such as _jit_compiled_convolution_op, _jit_compiled_convolution_op, _jit_compiled_convolution_op while saving (showing 3 of 3). These functions will not be directly callable after loading.\n"
     ]
    },
    {
     "name": "stdout",
     "output_type": "stream",
     "text": [
      "INFO:tensorflow:Assets written to: trained_models\\test_small\\assets\n"
     ]
    },
    {
     "name": "stderr",
     "output_type": "stream",
     "text": [
      "INFO:tensorflow:Assets written to: trained_models\\test_small\\assets\n"
     ]
    },
    {
     "name": "stdout",
     "output_type": "stream",
     "text": [
      "40/40 [==============================] - 3s 68ms/step - loss: 0.8630 - accuracy: 0.5667 - val_loss: 0.7431 - val_accuracy: 0.7143\n",
      "Epoch 28/70\n",
      "38/40 [===========================>..] - ETA: 0s - loss: 0.8868 - accuracy: 0.5439"
     ]
    },
    {
     "name": "stderr",
     "output_type": "stream",
     "text": [
      "WARNING:absl:Found untraced functions such as _jit_compiled_convolution_op, _jit_compiled_convolution_op, _jit_compiled_convolution_op while saving (showing 3 of 3). These functions will not be directly callable after loading.\n"
     ]
    },
    {
     "name": "stdout",
     "output_type": "stream",
     "text": [
      "INFO:tensorflow:Assets written to: trained_models\\test_small\\assets\n"
     ]
    },
    {
     "name": "stderr",
     "output_type": "stream",
     "text": [
      "INFO:tensorflow:Assets written to: trained_models\\test_small\\assets\n"
     ]
    },
    {
     "name": "stdout",
     "output_type": "stream",
     "text": [
      "40/40 [==============================] - 3s 75ms/step - loss: 0.8877 - accuracy: 0.5333 - val_loss: 0.7320 - val_accuracy: 0.7143\n",
      "Epoch 29/70\n",
      "38/40 [===========================>..] - ETA: 0s - loss: 0.8857 - accuracy: 0.5614"
     ]
    },
    {
     "name": "stderr",
     "output_type": "stream",
     "text": [
      "WARNING:absl:Found untraced functions such as _jit_compiled_convolution_op, _jit_compiled_convolution_op, _jit_compiled_convolution_op while saving (showing 3 of 3). These functions will not be directly callable after loading.\n"
     ]
    },
    {
     "name": "stdout",
     "output_type": "stream",
     "text": [
      "INFO:tensorflow:Assets written to: trained_models\\test_small\\assets\n"
     ]
    },
    {
     "name": "stderr",
     "output_type": "stream",
     "text": [
      "INFO:tensorflow:Assets written to: trained_models\\test_small\\assets\n"
     ]
    },
    {
     "name": "stdout",
     "output_type": "stream",
     "text": [
      "40/40 [==============================] - 3s 68ms/step - loss: 0.8731 - accuracy: 0.5625 - val_loss: 0.6987 - val_accuracy: 0.6905\n",
      "Epoch 30/70\n",
      "40/40 [==============================] - 1s 16ms/step - loss: 0.9030 - accuracy: 0.5875 - val_loss: 0.7709 - val_accuracy: 0.6429\n",
      "Epoch 31/70\n",
      "40/40 [==============================] - 1s 15ms/step - loss: 0.8376 - accuracy: 0.5500 - val_loss: 0.7180 - val_accuracy: 0.6429\n",
      "Epoch 32/70\n",
      "40/40 [==============================] - 1s 14ms/step - loss: 0.8291 - accuracy: 0.5833 - val_loss: 0.7311 - val_accuracy: 0.6667\n",
      "Epoch 33/70\n",
      "37/40 [==========================>...] - ETA: 0s - loss: 0.8275 - accuracy: 0.5721"
     ]
    },
    {
     "name": "stderr",
     "output_type": "stream",
     "text": [
      "WARNING:absl:Found untraced functions such as _jit_compiled_convolution_op, _jit_compiled_convolution_op, _jit_compiled_convolution_op while saving (showing 3 of 3). These functions will not be directly callable after loading.\n"
     ]
    },
    {
     "name": "stdout",
     "output_type": "stream",
     "text": [
      "INFO:tensorflow:Assets written to: trained_models\\test_small\\assets\n"
     ]
    },
    {
     "name": "stderr",
     "output_type": "stream",
     "text": [
      "INFO:tensorflow:Assets written to: trained_models\\test_small\\assets\n"
     ]
    },
    {
     "name": "stdout",
     "output_type": "stream",
     "text": [
      "40/40 [==============================] - 3s 66ms/step - loss: 0.8380 - accuracy: 0.5667 - val_loss: 0.6466 - val_accuracy: 0.7381\n",
      "Epoch 34/70\n",
      "40/40 [==============================] - 1s 15ms/step - loss: 0.8610 - accuracy: 0.5833 - val_loss: 0.6914 - val_accuracy: 0.6667\n",
      "Epoch 35/70\n",
      "40/40 [==============================] - 1s 15ms/step - loss: 0.8366 - accuracy: 0.6042 - val_loss: 0.7792 - val_accuracy: 0.5238\n",
      "Epoch 36/70\n",
      "40/40 [==============================] - 1s 15ms/step - loss: 0.9671 - accuracy: 0.5375 - val_loss: 0.8257 - val_accuracy: 0.4762\n",
      "Epoch 37/70\n",
      "39/40 [============================>.] - ETA: 0s - loss: 0.8139 - accuracy: 0.5427"
     ]
    },
    {
     "name": "stderr",
     "output_type": "stream",
     "text": [
      "WARNING:absl:Found untraced functions such as _jit_compiled_convolution_op, _jit_compiled_convolution_op, _jit_compiled_convolution_op while saving (showing 3 of 3). These functions will not be directly callable after loading.\n"
     ]
    },
    {
     "name": "stdout",
     "output_type": "stream",
     "text": [
      "INFO:tensorflow:Assets written to: trained_models\\test_small\\assets\n"
     ]
    },
    {
     "name": "stderr",
     "output_type": "stream",
     "text": [
      "INFO:tensorflow:Assets written to: trained_models\\test_small\\assets\n"
     ]
    },
    {
     "name": "stdout",
     "output_type": "stream",
     "text": [
      "40/40 [==============================] - 3s 72ms/step - loss: 0.8066 - accuracy: 0.5542 - val_loss: 0.6321 - val_accuracy: 0.6905\n",
      "Epoch 38/70\n",
      "40/40 [==============================] - ETA: 0s - loss: 0.8424 - accuracy: 0.5458"
     ]
    },
    {
     "name": "stderr",
     "output_type": "stream",
     "text": [
      "WARNING:absl:Found untraced functions such as _jit_compiled_convolution_op, _jit_compiled_convolution_op, _jit_compiled_convolution_op while saving (showing 3 of 3). These functions will not be directly callable after loading.\n"
     ]
    },
    {
     "name": "stdout",
     "output_type": "stream",
     "text": [
      "INFO:tensorflow:Assets written to: trained_models\\test_small\\assets\n"
     ]
    },
    {
     "name": "stderr",
     "output_type": "stream",
     "text": [
      "INFO:tensorflow:Assets written to: trained_models\\test_small\\assets\n"
     ]
    },
    {
     "name": "stdout",
     "output_type": "stream",
     "text": [
      "40/40 [==============================] - 3s 68ms/step - loss: 0.8424 - accuracy: 0.5458 - val_loss: 0.5849 - val_accuracy: 0.8095\n",
      "Epoch 39/70\n",
      "40/40 [==============================] - 1s 16ms/step - loss: 0.8605 - accuracy: 0.5500 - val_loss: 0.6800 - val_accuracy: 0.5000\n",
      "Epoch 40/70\n",
      "40/40 [==============================] - 1s 14ms/step - loss: 0.8063 - accuracy: 0.6458 - val_loss: 0.6874 - val_accuracy: 0.5714\n",
      "Epoch 41/70\n",
      "40/40 [==============================] - 1s 15ms/step - loss: 0.7749 - accuracy: 0.6042 - val_loss: 0.5912 - val_accuracy: 0.8095\n",
      "Epoch 42/70\n",
      "39/40 [============================>.] - ETA: 0s - loss: 0.7685 - accuracy: 0.6197"
     ]
    },
    {
     "name": "stderr",
     "output_type": "stream",
     "text": [
      "WARNING:absl:Found untraced functions such as _jit_compiled_convolution_op, _jit_compiled_convolution_op, _jit_compiled_convolution_op while saving (showing 3 of 3). These functions will not be directly callable after loading.\n"
     ]
    },
    {
     "name": "stdout",
     "output_type": "stream",
     "text": [
      "INFO:tensorflow:Assets written to: trained_models\\test_small\\assets\n"
     ]
    },
    {
     "name": "stderr",
     "output_type": "stream",
     "text": [
      "INFO:tensorflow:Assets written to: trained_models\\test_small\\assets\n"
     ]
    },
    {
     "name": "stdout",
     "output_type": "stream",
     "text": [
      "40/40 [==============================] - 3s 68ms/step - loss: 0.7669 - accuracy: 0.6208 - val_loss: 0.5650 - val_accuracy: 0.8810\n",
      "Epoch 43/70\n",
      "39/40 [============================>.] - ETA: 0s - loss: 0.8234 - accuracy: 0.5513"
     ]
    },
    {
     "name": "stderr",
     "output_type": "stream",
     "text": [
      "WARNING:absl:Found untraced functions such as _jit_compiled_convolution_op, _jit_compiled_convolution_op, _jit_compiled_convolution_op while saving (showing 3 of 3). These functions will not be directly callable after loading.\n"
     ]
    },
    {
     "name": "stdout",
     "output_type": "stream",
     "text": [
      "INFO:tensorflow:Assets written to: trained_models\\test_small\\assets\n"
     ]
    },
    {
     "name": "stderr",
     "output_type": "stream",
     "text": [
      "INFO:tensorflow:Assets written to: trained_models\\test_small\\assets\n"
     ]
    },
    {
     "name": "stdout",
     "output_type": "stream",
     "text": [
      "40/40 [==============================] - 3s 66ms/step - loss: 0.8235 - accuracy: 0.5542 - val_loss: 0.4881 - val_accuracy: 0.8333\n",
      "Epoch 44/70\n",
      "40/40 [==============================] - 1s 15ms/step - loss: 0.7086 - accuracy: 0.6500 - val_loss: 0.5030 - val_accuracy: 0.9048\n",
      "Epoch 45/70\n",
      "40/40 [==============================] - 1s 15ms/step - loss: 0.7687 - accuracy: 0.6500 - val_loss: 1.1312 - val_accuracy: 0.3571\n",
      "Epoch 46/70\n",
      "40/40 [==============================] - 1s 15ms/step - loss: 0.7960 - accuracy: 0.6000 - val_loss: 0.5737 - val_accuracy: 0.6905\n",
      "Epoch 47/70\n",
      "40/40 [==============================] - 1s 14ms/step - loss: 0.7276 - accuracy: 0.6583 - val_loss: 0.5909 - val_accuracy: 0.6429\n",
      "Epoch 48/70\n",
      "40/40 [==============================] - 1s 14ms/step - loss: 0.7348 - accuracy: 0.6625 - val_loss: 0.5138 - val_accuracy: 0.7143\n",
      "Epoch 49/70\n",
      "36/40 [==========================>...] - ETA: 0s - loss: 0.7534 - accuracy: 0.6204"
     ]
    },
    {
     "name": "stderr",
     "output_type": "stream",
     "text": [
      "WARNING:absl:Found untraced functions such as _jit_compiled_convolution_op, _jit_compiled_convolution_op, _jit_compiled_convolution_op while saving (showing 3 of 3). These functions will not be directly callable after loading.\n"
     ]
    },
    {
     "name": "stdout",
     "output_type": "stream",
     "text": [
      "INFO:tensorflow:Assets written to: trained_models\\test_small\\assets\n"
     ]
    },
    {
     "name": "stderr",
     "output_type": "stream",
     "text": [
      "INFO:tensorflow:Assets written to: trained_models\\test_small\\assets\n"
     ]
    },
    {
     "name": "stdout",
     "output_type": "stream",
     "text": [
      "40/40 [==============================] - 3s 73ms/step - loss: 0.7469 - accuracy: 0.6208 - val_loss: 0.4683 - val_accuracy: 0.8333\n",
      "Epoch 50/70\n",
      "40/40 [==============================] - 1s 16ms/step - loss: 0.7711 - accuracy: 0.6125 - val_loss: 0.5335 - val_accuracy: 0.6667\n",
      "Epoch 51/70\n",
      "40/40 [==============================] - ETA: 0s - loss: 0.7099 - accuracy: 0.6917"
     ]
    },
    {
     "name": "stderr",
     "output_type": "stream",
     "text": [
      "WARNING:absl:Found untraced functions such as _jit_compiled_convolution_op, _jit_compiled_convolution_op, _jit_compiled_convolution_op while saving (showing 3 of 3). These functions will not be directly callable after loading.\n"
     ]
    },
    {
     "name": "stdout",
     "output_type": "stream",
     "text": [
      "INFO:tensorflow:Assets written to: trained_models\\test_small\\assets\n"
     ]
    },
    {
     "name": "stderr",
     "output_type": "stream",
     "text": [
      "INFO:tensorflow:Assets written to: trained_models\\test_small\\assets\n"
     ]
    },
    {
     "name": "stdout",
     "output_type": "stream",
     "text": [
      "40/40 [==============================] - 3s 67ms/step - loss: 0.7099 - accuracy: 0.6917 - val_loss: 0.4422 - val_accuracy: 0.9048\n",
      "Epoch 52/70\n",
      "40/40 [==============================] - 1s 16ms/step - loss: 0.7405 - accuracy: 0.6583 - val_loss: 0.4576 - val_accuracy: 0.9286\n",
      "Epoch 53/70\n",
      "36/40 [==========================>...] - ETA: 0s - loss: 0.7180 - accuracy: 0.6852"
     ]
    },
    {
     "name": "stderr",
     "output_type": "stream",
     "text": [
      "WARNING:absl:Found untraced functions such as _jit_compiled_convolution_op, _jit_compiled_convolution_op, _jit_compiled_convolution_op while saving (showing 3 of 3). These functions will not be directly callable after loading.\n"
     ]
    },
    {
     "name": "stdout",
     "output_type": "stream",
     "text": [
      "INFO:tensorflow:Assets written to: trained_models\\test_small\\assets\n"
     ]
    },
    {
     "name": "stderr",
     "output_type": "stream",
     "text": [
      "INFO:tensorflow:Assets written to: trained_models\\test_small\\assets\n"
     ]
    },
    {
     "name": "stdout",
     "output_type": "stream",
     "text": [
      "40/40 [==============================] - 3s 67ms/step - loss: 0.7085 - accuracy: 0.6833 - val_loss: 0.3989 - val_accuracy: 0.8571\n",
      "Epoch 54/70\n",
      "40/40 [==============================] - 1s 15ms/step - loss: 0.6929 - accuracy: 0.6875 - val_loss: 0.7447 - val_accuracy: 0.4524\n",
      "Epoch 55/70\n",
      "39/40 [============================>.] - ETA: 0s - loss: 0.7409 - accuracy: 0.6282"
     ]
    },
    {
     "name": "stderr",
     "output_type": "stream",
     "text": [
      "WARNING:absl:Found untraced functions such as _jit_compiled_convolution_op, _jit_compiled_convolution_op, _jit_compiled_convolution_op while saving (showing 3 of 3). These functions will not be directly callable after loading.\n"
     ]
    },
    {
     "name": "stdout",
     "output_type": "stream",
     "text": [
      "INFO:tensorflow:Assets written to: trained_models\\test_small\\assets\n"
     ]
    },
    {
     "name": "stderr",
     "output_type": "stream",
     "text": [
      "INFO:tensorflow:Assets written to: trained_models\\test_small\\assets\n"
     ]
    },
    {
     "name": "stdout",
     "output_type": "stream",
     "text": [
      "40/40 [==============================] - 3s 73ms/step - loss: 0.7407 - accuracy: 0.6292 - val_loss: 0.3931 - val_accuracy: 0.8810\n",
      "Epoch 56/70\n",
      "40/40 [==============================] - 1s 15ms/step - loss: 0.7141 - accuracy: 0.6833 - val_loss: 0.4549 - val_accuracy: 0.8571\n",
      "Epoch 57/70\n",
      "40/40 [==============================] - 1s 15ms/step - loss: 0.7961 - accuracy: 0.6708 - val_loss: 0.4637 - val_accuracy: 0.9286\n",
      "Epoch 58/70\n",
      "40/40 [==============================] - 1s 14ms/step - loss: 0.7038 - accuracy: 0.6750 - val_loss: 0.4257 - val_accuracy: 0.9048\n",
      "Epoch 59/70\n",
      "40/40 [==============================] - 1s 15ms/step - loss: 0.7336 - accuracy: 0.6667 - val_loss: 0.4513 - val_accuracy: 0.9524\n",
      "Epoch 60/70\n",
      "40/40 [==============================] - 1s 14ms/step - loss: 0.6625 - accuracy: 0.7333 - val_loss: 0.8771 - val_accuracy: 0.4762\n",
      "Epoch 61/70\n",
      "40/40 [==============================] - 1s 15ms/step - loss: 0.6655 - accuracy: 0.7125 - val_loss: 0.4211 - val_accuracy: 0.9524\n",
      "Epoch 62/70\n",
      "40/40 [==============================] - 1s 14ms/step - loss: 0.6542 - accuracy: 0.6917 - val_loss: 0.4505 - val_accuracy: 0.9048\n",
      "Epoch 63/70\n",
      "40/40 [==============================] - 1s 14ms/step - loss: 0.6898 - accuracy: 0.6833 - val_loss: 0.6245 - val_accuracy: 0.6429\n",
      "Epoch 64/70\n",
      "40/40 [==============================] - 1s 14ms/step - loss: 0.6458 - accuracy: 0.7417 - val_loss: 0.5412 - val_accuracy: 0.7143\n",
      "Epoch 65/70\n",
      "40/40 [==============================] - 1s 15ms/step - loss: 0.6048 - accuracy: 0.7208 - val_loss: 0.6609 - val_accuracy: 0.6190\n",
      "Epoch 66/70\n",
      "40/40 [==============================] - 1s 15ms/step - loss: 0.6530 - accuracy: 0.6750 - val_loss: 0.6589 - val_accuracy: 0.7143\n",
      "Epoch 67/70\n",
      "36/40 [==========================>...] - ETA: 0s - loss: 0.7156 - accuracy: 0.7083"
     ]
    },
    {
     "name": "stderr",
     "output_type": "stream",
     "text": [
      "WARNING:absl:Found untraced functions such as _jit_compiled_convolution_op, _jit_compiled_convolution_op, _jit_compiled_convolution_op while saving (showing 3 of 3). These functions will not be directly callable after loading.\n"
     ]
    },
    {
     "name": "stdout",
     "output_type": "stream",
     "text": [
      "INFO:tensorflow:Assets written to: trained_models\\test_small\\assets\n"
     ]
    },
    {
     "name": "stderr",
     "output_type": "stream",
     "text": [
      "INFO:tensorflow:Assets written to: trained_models\\test_small\\assets\n"
     ]
    },
    {
     "name": "stdout",
     "output_type": "stream",
     "text": [
      "40/40 [==============================] - 3s 67ms/step - loss: 0.7061 - accuracy: 0.7167 - val_loss: 0.3542 - val_accuracy: 0.9762\n",
      "Epoch 68/70\n",
      "40/40 [==============================] - 1s 16ms/step - loss: 0.5928 - accuracy: 0.7458 - val_loss: 0.4720 - val_accuracy: 0.6905\n",
      "Epoch 69/70\n",
      "40/40 [==============================] - 1s 15ms/step - loss: 0.6063 - accuracy: 0.7625 - val_loss: 0.4826 - val_accuracy: 0.7619\n",
      "Epoch 70/70\n",
      "39/40 [============================>.] - ETA: 0s - loss: 0.6292 - accuracy: 0.7009"
     ]
    },
    {
     "name": "stderr",
     "output_type": "stream",
     "text": [
      "WARNING:absl:Found untraced functions such as _jit_compiled_convolution_op, _jit_compiled_convolution_op, _jit_compiled_convolution_op while saving (showing 3 of 3). These functions will not be directly callable after loading.\n"
     ]
    },
    {
     "name": "stdout",
     "output_type": "stream",
     "text": [
      "INFO:tensorflow:Assets written to: trained_models\\test_small\\assets\n"
     ]
    },
    {
     "name": "stderr",
     "output_type": "stream",
     "text": [
      "INFO:tensorflow:Assets written to: trained_models\\test_small\\assets\n"
     ]
    },
    {
     "name": "stdout",
     "output_type": "stream",
     "text": [
      "40/40 [==============================] - 3s 66ms/step - loss: 0.6228 - accuracy: 0.7083 - val_loss: 0.3038 - val_accuracy: 0.9524\n"
     ]
    }
   ],
   "source": [
    "STEP_SIZE_TRAIN=train_flow.n//train_flow.batch_size\n",
    "STEP_SIZE_VALID=valid_flow.n//valid_flow.batch_size\n",
    "\n",
    "checkpoint = tf.keras.callbacks.ModelCheckpoint(f'trained_models/{model_name}', save_best_only=True)\n",
    "stop_early = tf.keras.callbacks.EarlyStopping(monitor='val_loss', patience=patience)\n",
    "history = model.fit(train_flow,\n",
    "            steps_per_epoch=STEP_SIZE_TRAIN,\n",
    "            validation_data=valid_flow,\n",
    "            validation_steps=STEP_SIZE_VALID,\n",
    "            epochs=epochs,\n",
    "            callbacks=[stop_early, checkpoint],\n",
    ")"
   ]
  },
  {
   "cell_type": "code",
   "execution_count": 28,
   "id": "40ff3e77-9e9e-4d56-abee-f7543a29a9f8",
   "metadata": {},
   "outputs": [],
   "source": [
    "# Save training history\n",
    "hist_df = pd.DataFrame(history.history) \n",
    "hist_csv_file = f'trained_models/{model_name}/history.csv'\n",
    "with open(hist_csv_file, mode='w') as f:\n",
    "    hist_df.to_csv(f)"
   ]
  },
  {
   "cell_type": "code",
   "execution_count": 29,
   "id": "43963840-c509-4c53-b69c-7c0201d1d866",
   "metadata": {},
   "outputs": [
    {
     "name": "stdout",
     "output_type": "stream",
     "text": [
      "8/8 [==============================] - 1s 50ms/step - loss: 0.2905 - accuracy: 0.9556\n",
      "evaluate accuracy: 95.56%\n"
     ]
    }
   ],
   "source": [
    "model = tf.keras.models.load_model('trained_models/' + model_name) #model_name\n",
    "\n",
    "test_flow.reset()\n",
    "\n",
    "scores = model.evaluate(test_flow)\n",
    "\n",
    "print(\"%s%s: %.2f%%\" % (\"evaluate \", model.metrics_names[1], scores[1]*100))"
   ]
  },
  {
   "cell_type": "code",
   "execution_count": 30,
   "id": "f680f26f-eaaf-45fb-863a-303fa9b87f6d",
   "metadata": {},
   "outputs": [
    {
     "data": {
      "image/png": "[encoded data removed]",
      "text/plain": [
       "<Figure size 432x288 with 1 Axes>"
      ]
     },
     "metadata": {},
     "output_type": "display_data"
    }
   ],
   "source": [
    "plt.plot(history.history['accuracy'])\n",
    "plt.plot(history.history['val_accuracy'])\n",
    "plt.title('Model accuracy')\n",
    "plt.ylabel('Accuracy')\n",
    "plt.xlabel('Epoch')\n",
    "plt.legend(['Train', 'Validation'], loc='upper left')\n",
    "plt.show()"
   ]
  },
  {
   "cell_type": "code",
   "execution_count": 32,
   "id": "543668e7-c877-46f4-8c60-f2bc75d7fa8e",
   "metadata": {},
   "outputs": [
    {
     "data": {
      "image/png": "[encoded data removed]",
      "text/plain": [
       "<Figure size 432x288 with 1 Axes>"
      ]
     },
     "metadata": {},
     "output_type": "display_data"
    }
   ],
   "source": [
    "plt.plot(history.history['loss'])\n",
    "plt.plot(history.history['val_loss'])\n",
    "plt.title('Model loss')\n",
    "plt.ylabel('Loss')\n",
    "plt.xlabel('Epoch')\n",
    "plt.legend(['Train', 'Validation'], loc='upper left')\n",
    "plt.savefig('loss.png')\n",
    "plt.show()"
   ]
  },
  {
   "cell_type": "code",
   "execution_count": 33,
   "id": "7f2ed930-ba5b-488e-a6dc-dc7f478d5de0",
   "metadata": {},
   "outputs": [
    {
     "name": "stdout",
     "output_type": "stream",
     "text": [
      "['bedroom floor', 'bedroom table', 'kitchen table']\n",
      "1/1 [==============================] - 1s 508ms/step\n",
      "bedroom table\n"
     ]
    }
   ],
   "source": [
    "raw_datasets = f'{dataset_dir} data'\n",
    "split_datasets = dataset_dir\n",
    "\n",
    "CLASSES = []\n",
    "for subdir in os.listdir(raw_datasets):\n",
    "    CLASSES.append(subdir)\n",
    "    \n",
    "print(CLASSES)\n",
    "    \n",
    "index = 1\n",
    "img_num = 34\n",
    "\n",
    "TEST_IMAGES = []\n",
    "TEST_LABELS = []\n",
    "for subdir in os.listdir(split_datasets + '/test'):\n",
    "    for file in os.listdir(os.path.join(split_datasets, 'test', subdir)):\n",
    "        a = np.asarray(Image.open(f'{split_datasets}/test/{subdir}/{file}').resize(input_shape[:-1])).astype(np.float32)/255.\n",
    "        TEST_IMAGES.append(a)\n",
    "        TEST_LABELS.append(CLASSES.index(subdir))\n",
    "        \n",
    "TEST_IMAGES = np.asarray(TEST_IMAGES)\n",
    "TEST_LABELS = np.asarray(TEST_LABELS)\n",
    "\n",
    "img = np.asarray(Image.open(f'{raw_datasets}/{CLASSES[index]}/{img_num}.jpg').resize(input_shape[:-1])).astype(np.float32)/255.\n",
    "img = np.expand_dims(img, axis=0)\n",
    "pred = model.predict(img)\n",
    "print(CLASSES[np.argmax(pred)])"
   ]
  },
  {
   "cell_type": "code",
   "execution_count": 34,
   "id": "c66daa1d-1a31-408b-96ee-52399a44b151",
   "metadata": {},
   "outputs": [
    {
     "name": "stdout",
     "output_type": "stream",
     "text": [
      "{'bedroom floor': 0, 'bedroom table': 1, 'kitchen table': 2}\n",
      "2/2 [==============================] - 0s 101ms/step\n"
     ]
    },
    {
     "data": {
      "image/png": "[encoded data removed]",
      "text/plain": [
       "<Figure size 1080x1080 with 2 Axes>"
      ]
     },
     "metadata": {},
     "output_type": "display_data"
    }
   ],
   "source": [
    "file_name = f'./confusion_matrix/{model_name}/confusion_matrix_{num_classes}class_{model_name}'\n",
    "title = f'Material (6) Classification'\n",
    "\n",
    "if not os.path.exists('./confusion_matrix'):\n",
    "    os.mkdir('./confusion_matrix')\n",
    "\n",
    "if not os.path.exists(f'./confusion_matrix/{model_name}'):\n",
    "    os.mkdir(f'./confusion_matrix/{model_name}')\n",
    "\n",
    "test_labels = test_flow.class_indices\n",
    "print(test_labels)\n",
    "predictions = tf.math.argmax(model.predict(TEST_IMAGES), axis=1)\n",
    "cf = tf.math.confusion_matrix(TEST_LABELS, predictions).numpy()\n",
    "cf = cf / cf.sum(axis=1)[:, np.newaxis]\n",
    "df = pd.DataFrame(cf, index=CLASSES, columns=CLASSES)\n",
    "plt.figure(figsize=(15, 15))\n",
    "sns.set(font_scale=1.8)\n",
    "hm = sns.heatmap(df, annot=True, cmap='Blues', square=True, fmt='.2f')\n",
    "plt.xlabel('Predicted label', labelpad=40)\n",
    "plt.ylabel('Actual label', labelpad=40)\n",
    "plt.title(title, y=1.03, pad=20, fontsize=30)\n",
    "plt.savefig(file_name + '_transparent.png', transparent=True, bbox_inches=\"tight\")\n",
    "plt.savefig(file_name + '_white.png', transparent=False, facecolor='white', bbox_inches=\"tight\")"
   ]
  },
  {
   "cell_type": "code",
   "execution_count": null,
   "id": "86d21e2f-facd-40dc-9a70-0c696ae3a5a9",
   "metadata": {},
   "outputs": [],
   "source": []
  },
  {
   "cell_type": "code",
   "execution_count": null,
   "id": "458f3c6d-b02c-4bbd-bbd5-30e09986739a",
   "metadata": {},
   "outputs": [],
   "source": []
  }
 ],
 "metadata": {
  "kernelspec": {
   "display_name": "Python 3",
   "language": "python",
   "name": "python3"
  },
  "language_info": {
   "codemirror_mode": {
    "name": "ipython",
    "version": 3
   },
   "file_extension": ".py",
   "mimetype": "text/x-python",
   "name": "python",
   "nbconvert_exporter": "python",
   "pygments_lexer": "ipython3",
   "version": "3.10.4"
  }
 },
 "nbformat": 4,
 "nbformat_minor": 5
}
