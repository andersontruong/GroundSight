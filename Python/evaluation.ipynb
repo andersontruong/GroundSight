{
 "cells": [
  {
   "cell_type": "code",
   "execution_count": 18,
   "id": "2b5e47f5-a683-4c7c-83b6-bc3075aef6d9",
   "metadata": {},
   "outputs": [],
   "source": [
    "import random\n",
    "import os\n",
    "import numpy as np\n",
    "from PIL import Image\n",
    "import matplotlib.pyplot as plt\n",
    "from tensorflow import keras"
   ]
  },
  {
   "cell_type": "code",
   "execution_count": 24,
   "id": "44d4433c-f74c-48c3-a896-f06b00d4291d",
   "metadata": {},
   "outputs": [
    {
     "name": "stdout",
     "output_type": "stream",
     "text": [
      "[0 1 2 3 4]\n"
     ]
    }
   ],
   "source": [
    "IMAGES_DIR = 'raw_datasets'\n",
    "DATASET_DIRS = ['light brown wood', 'gray wood', 'gray painted wood', 'gray rug', 'stone tile']\n",
    "LABEL_MAP = list(range(len(DATASET_DIRS)))\n",
    "IMAGES = []\n",
    "LABELS = []\n",
    "for i, DATASET_DIR in enumerate(DATASET_DIRS):\n",
    "    IMAGES.append(np.asarray(Image.open(f'{IMAGES_DIR}/{i}/{DATASET_DIR}/0.jpg')))\n",
    "    LABELS.append(LABEL_MAP[i])\n",
    "    \n",
    "IMAGES = np.asarray(IMAGES).astype(np.float32) / 255.\n",
    "LABELS = np.asarray(LABELS)\n",
    "print(LABELS)"
   ]
  },
  {
   "cell_type": "code",
   "execution_count": 25,
   "id": "6ce7ac52-8ecd-415e-820c-d15aca302a3c",
   "metadata": {},
   "outputs": [],
   "source": [
    "model_name = 'best_model_5'\n",
    "model = keras.models.load_model(f'trained_models/{model_name}')"
   ]
  },
  {
   "cell_type": "code",
   "execution_count": 27,
   "id": "7c63c285-c28c-404e-b48b-0a9af89c791a",
   "metadata": {},
   "outputs": [
    {
     "name": "stdout",
     "output_type": "stream",
     "text": [
      "1/1 [==============================] - 0s 118ms/step - loss: 6.4407 - accuracy: 0.6000\n",
      "Test accuracy: 0.6000000238418579\n"
     ]
    }
   ],
   "source": [
    "test_loss, test_acc = model.evaluate(IMAGES, LABELS)\n",
    "\n",
    "print('Test accuracy:', test_acc)"
   ]
  },
  {
   "cell_type": "code",
   "execution_count": null,
   "id": "f6004ca4-4e7c-4b68-95c6-c896a04b6ff8",
   "metadata": {},
   "outputs": [],
   "source": []
  }
 ],
 "metadata": {
  "kernelspec": {
   "display_name": "Python 3",
   "language": "python",
   "name": "python3"
  },
  "language_info": {
   "codemirror_mode": {
    "name": "ipython",
    "version": 3
   },
   "file_extension": ".py",
   "mimetype": "text/x-python",
   "name": "python",
   "nbconvert_exporter": "python",
   "pygments_lexer": "ipython3",
   "version": "3.10.4"
  }
 },
 "nbformat": 4,
 "nbformat_minor": 5
}
