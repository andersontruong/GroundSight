{
 "cells": [
  {
   "cell_type": "code",
   "execution_count": 1,
   "id": "bd32f9c2-1b50-4bd9-8174-fa67d4838c26",
   "metadata": {},
   "outputs": [],
   "source": [
    "import matplotlib.pyplot as plt\n",
    "from tensorflow.keras.preprocessing.image import ImageDataGenerator\n",
    "import os\n",
    "import numpy as np\n",
    "from PIL import Image"
   ]
  },
  {
   "cell_type": "code",
   "execution_count": 2,
   "id": "6cde1b32-20cb-4b93-a1df-62907dd3cf11",
   "metadata": {},
   "outputs": [
    {
     "name": "stderr",
     "output_type": "stream",
     "text": [
      "C:\\Users\\flami\\miniconda3\\envs\\tf\\lib\\site-packages\\keras\\preprocessing\\image.py:1297: UserWarning: This ImageDataGenerator specifies `featurewise_std_normalization`, which overrides setting of `featurewise_center`.\n",
      "  warnings.warn('This ImageDataGenerator specifies '\n"
     ]
    }
   ],
   "source": [
    "datagen = ImageDataGenerator(\n",
    "        rotation_range=90,\n",
    "        height_shift_range=0.5,\n",
    "        width_shift_range=0.5,\n",
    "        shear_range=5,\n",
    "        brightness_range=(0.6, 1),\n",
    "        zoom_range=[0.4, 0.9],\n",
    "        horizontal_flip=True,\n",
    "        vertical_flip=True,\n",
    "        fill_mode='nearest',\n",
    "        featurewise_std_normalization=True,\n",
    ")"
   ]
  },
  {
   "cell_type": "code",
   "execution_count": 3,
   "id": "ff2dd333-3e89-4885-af72-87095e8841a4",
   "metadata": {},
   "outputs": [
    {
     "name": "stderr",
     "output_type": "stream",
     "text": [
      "C:\\Users\\flami\\miniconda3\\envs\\tf\\lib\\site-packages\\keras\\preprocessing\\image.py:1663: UserWarning: This ImageDataGenerator specifies `featurewise_center`, but it hasn't been fit on any training data. Fit it first by calling `.fit(numpy_data)`.\n",
      "  warnings.warn('This ImageDataGenerator specifies '\n",
      "C:\\Users\\flami\\miniconda3\\envs\\tf\\lib\\site-packages\\keras\\preprocessing\\image.py:1671: UserWarning: This ImageDataGenerator specifies `featurewise_std_normalization`, but it hasn't been fit on any training data. Fit it first by calling `.fit(numpy_data)`.\n",
      "  warnings.warn('This ImageDataGenerator specifies '\n"
     ]
    },
    {
     "name": "stdout",
     "output_type": "stream",
     "text": [
      "Found 94 images belonging to 1 classes.\n",
      "Found 95 images belonging to 1 classes.\n"
     ]
    }
   ],
   "source": [
    "# 1000 samples\n",
    "SAMPLES = 1000\n",
    "ROOT_DIR = 'datasets'\n",
    "DIRS = ['wood table', 'wood floor']\n",
    "DIRS = list(map(lambda x: os.path.join(ROOT_DIR, x), DIRS))\n",
    "\n",
    "if not os.path.exists(ROOT_DIR):\n",
    "    os.mkdir(ROOT_DIR)\n",
    "\n",
    "for DIR in DIRS:\n",
    "    if not os.path.exists(DIR):\n",
    "        os.mkdir(DIR)\n",
    "\n",
    "for c, class_ in enumerate(DIRS):\n",
    "    train_data_gen = datagen.flow_from_directory(\n",
    "        batch_size=1,\n",
    "        directory=f'raw_datasets/{c}',\n",
    "        shuffle=False,\n",
    "        target_size=(240, 240),\n",
    "    )\n",
    "    for i in range(SAMPLES):\n",
    "        #print(class_)\n",
    "        Image.fromarray(train_data_gen[0][0][0].astype(np.uint8)).save(os.path.join(class_, f'{i}.jpg'))"
   ]
  },
  {
   "cell_type": "code",
   "execution_count": null,
   "id": "2d2c671c-ca7c-451f-bf98-29d01831304c",
   "metadata": {},
   "outputs": [],
   "source": []
  }
 ],
 "metadata": {
  "kernelspec": {
   "display_name": "Python 3",
   "language": "python",
   "name": "python3"
  },
  "language_info": {
   "codemirror_mode": {
    "name": "ipython",
    "version": 3
   },
   "file_extension": ".py",
   "mimetype": "text/x-python",
   "name": "python",
   "nbconvert_exporter": "python",
   "pygments_lexer": "ipython3",
   "version": "3.10.4"
  }
 },
 "nbformat": 4,
 "nbformat_minor": 5
}
